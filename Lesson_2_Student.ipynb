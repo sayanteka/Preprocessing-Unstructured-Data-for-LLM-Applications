{
 "cells": [
  {
   "cell_type": "markdown",
   "id": "6ef57eb5-2295-44fb-81d9-4351769e8f4e",
   "metadata": {},
   "source": [
    "# L2: Normalizing the Content"
   ]
  },
  {
   "cell_type": "markdown",
   "id": "1138a09c-e3b2-46e0-9d42-e46a93ac534f",
   "metadata": {},
   "source": [
    "<p style=\"background-color:#fff6e4; padding:15px; border-width:3px; border-color:#f5ecda; border-style:solid; border-radius:6px\"> ⏳ <b>Note <code>(Kernel Starting)</code>:</b> This notebook takes about 30 seconds to be ready to use. You may start and watch the video while you wait.</p>\n"
   ]
  },
  {
   "cell_type": "code",
   "execution_count": 1,
   "id": "4ec2430d-cac6-406e-a007-123dc97df0e2",
   "metadata": {},
   "outputs": [],
   "source": [
    "# Warning control\n",
    "import warnings\n",
    "warnings.filterwarnings('ignore')"
   ]
  },
  {
   "cell_type": "code",
   "execution_count": 2,
   "id": "591f213d-f54b-4c91-ae73-bcd2c7a4359e",
   "metadata": {},
   "outputs": [],
   "source": [
    "from IPython.display import JSON\n",
    "\n",
    "import json\n",
    "\n",
    "from unstructured_client import UnstructuredClient\n",
    "from unstructured_client.models import shared\n",
    "from unstructured_client.models.errors import SDKError\n",
    "\n",
    "from unstructured.partition.html import partition_html\n",
    "from unstructured.partition.pptx import partition_pptx\n",
    "from unstructured.staging.base import dict_to_elements, elements_to_json"
   ]
  },
  {
   "cell_type": "code",
   "execution_count": 3,
   "id": "b97be736-2166-400c-9d17-6dcb4034c9eb",
   "metadata": {},
   "outputs": [
    {
     "data": {
      "application/javascript": [
       "(function(root) {\n",
       "  function now() {\n",
       "    return new Date();\n",
       "  }\n",
       "\n",
       "  var force = true;\n",
       "  var py_version = '3.4.0'.replace('rc', '-rc.').replace('.dev', '-dev.');\n",
       "  var reloading = false;\n",
       "  var Bokeh = root.Bokeh;\n",
       "\n",
       "  if (typeof (root._bokeh_timeout) === \"undefined\" || force) {\n",
       "    root._bokeh_timeout = Date.now() + 5000;\n",
       "    root._bokeh_failed_load = false;\n",
       "  }\n",
       "\n",
       "  function run_callbacks() {\n",
       "    try {\n",
       "      root._bokeh_onload_callbacks.forEach(function(callback) {\n",
       "        if (callback != null)\n",
       "          callback();\n",
       "      });\n",
       "    } finally {\n",
       "      delete root._bokeh_onload_callbacks;\n",
       "    }\n",
       "    console.debug(\"Bokeh: all callbacks have finished\");\n",
       "  }\n",
       "\n",
       "  function load_libs(css_urls, js_urls, js_modules, js_exports, callback) {\n",
       "    if (css_urls == null) css_urls = [];\n",
       "    if (js_urls == null) js_urls = [];\n",
       "    if (js_modules == null) js_modules = [];\n",
       "    if (js_exports == null) js_exports = {};\n",
       "\n",
       "    root._bokeh_onload_callbacks.push(callback);\n",
       "\n",
       "    if (root._bokeh_is_loading > 0) {\n",
       "      console.debug(\"Bokeh: BokehJS is being loaded, scheduling callback at\", now());\n",
       "      return null;\n",
       "    }\n",
       "    if (js_urls.length === 0 && js_modules.length === 0 && Object.keys(js_exports).length === 0) {\n",
       "      run_callbacks();\n",
       "      return null;\n",
       "    }\n",
       "    if (!reloading) {\n",
       "      console.debug(\"Bokeh: BokehJS not loaded, scheduling load and callback at\", now());\n",
       "    }\n",
       "\n",
       "    function on_load() {\n",
       "      root._bokeh_is_loading--;\n",
       "      if (root._bokeh_is_loading === 0) {\n",
       "        console.debug(\"Bokeh: all BokehJS libraries/stylesheets loaded\");\n",
       "        run_callbacks()\n",
       "      }\n",
       "    }\n",
       "    window._bokeh_on_load = on_load\n",
       "\n",
       "    function on_error() {\n",
       "      console.error(\"failed to load \" + url);\n",
       "    }\n",
       "\n",
       "    var skip = [];\n",
       "    if (window.requirejs) {\n",
       "      window.requirejs.config({'packages': {}, 'paths': {}, 'shim': {}});\n",
       "      root._bokeh_is_loading = css_urls.length + 0;\n",
       "    } else {\n",
       "      root._bokeh_is_loading = css_urls.length + js_urls.length + js_modules.length + Object.keys(js_exports).length;\n",
       "    }\n",
       "\n",
       "    var existing_stylesheets = []\n",
       "    var links = document.getElementsByTagName('link')\n",
       "    for (var i = 0; i < links.length; i++) {\n",
       "      var link = links[i]\n",
       "      if (link.href != null) {\n",
       "\texisting_stylesheets.push(link.href)\n",
       "      }\n",
       "    }\n",
       "    for (var i = 0; i < css_urls.length; i++) {\n",
       "      var url = css_urls[i];\n",
       "      if (existing_stylesheets.indexOf(url) !== -1) {\n",
       "\ton_load()\n",
       "\tcontinue;\n",
       "      }\n",
       "      const element = document.createElement(\"link\");\n",
       "      element.onload = on_load;\n",
       "      element.onerror = on_error;\n",
       "      element.rel = \"stylesheet\";\n",
       "      element.type = \"text/css\";\n",
       "      element.href = url;\n",
       "      console.debug(\"Bokeh: injecting link tag for BokehJS stylesheet: \", url);\n",
       "      document.body.appendChild(element);\n",
       "    }    var existing_scripts = []\n",
       "    var scripts = document.getElementsByTagName('script')\n",
       "    for (var i = 0; i < scripts.length; i++) {\n",
       "      var script = scripts[i]\n",
       "      if (script.src != null) {\n",
       "\texisting_scripts.push(script.src)\n",
       "      }\n",
       "    }\n",
       "    for (var i = 0; i < js_urls.length; i++) {\n",
       "      var url = js_urls[i];\n",
       "      if (skip.indexOf(url) !== -1 || existing_scripts.indexOf(url) !== -1) {\n",
       "\tif (!window.requirejs) {\n",
       "\t  on_load();\n",
       "\t}\n",
       "\tcontinue;\n",
       "      }\n",
       "      var element = document.createElement('script');\n",
       "      element.onload = on_load;\n",
       "      element.onerror = on_error;\n",
       "      element.async = false;\n",
       "      element.src = url;\n",
       "      console.debug(\"Bokeh: injecting script tag for BokehJS library: \", url);\n",
       "      document.head.appendChild(element);\n",
       "    }\n",
       "    for (var i = 0; i < js_modules.length; i++) {\n",
       "      var url = js_modules[i];\n",
       "      if (skip.indexOf(url) !== -1 || existing_scripts.indexOf(url) !== -1) {\n",
       "\tif (!window.requirejs) {\n",
       "\t  on_load();\n",
       "\t}\n",
       "\tcontinue;\n",
       "      }\n",
       "      var element = document.createElement('script');\n",
       "      element.onload = on_load;\n",
       "      element.onerror = on_error;\n",
       "      element.async = false;\n",
       "      element.src = url;\n",
       "      element.type = \"module\";\n",
       "      console.debug(\"Bokeh: injecting script tag for BokehJS library: \", url);\n",
       "      document.head.appendChild(element);\n",
       "    }\n",
       "    for (const name in js_exports) {\n",
       "      var url = js_exports[name];\n",
       "      if (skip.indexOf(url) >= 0 || root[name] != null) {\n",
       "\tif (!window.requirejs) {\n",
       "\t  on_load();\n",
       "\t}\n",
       "\tcontinue;\n",
       "      }\n",
       "      var element = document.createElement('script');\n",
       "      element.onerror = on_error;\n",
       "      element.async = false;\n",
       "      element.type = \"module\";\n",
       "      console.debug(\"Bokeh: injecting script tag for BokehJS library: \", url);\n",
       "      element.textContent = `\n",
       "      import ${name} from \"${url}\"\n",
       "      window.${name} = ${name}\n",
       "      window._bokeh_on_load()\n",
       "      `\n",
       "      document.head.appendChild(element);\n",
       "    }\n",
       "    if (!js_urls.length && !js_modules.length) {\n",
       "      on_load()\n",
       "    }\n",
       "  };\n",
       "\n",
       "  function inject_raw_css(css) {\n",
       "    const element = document.createElement(\"style\");\n",
       "    element.appendChild(document.createTextNode(css));\n",
       "    document.body.appendChild(element);\n",
       "  }\n",
       "\n",
       "  var js_urls = [\"https://cdn.bokeh.org/bokeh/release/bokeh-3.4.0.min.js\", \"https://cdn.bokeh.org/bokeh/release/bokeh-gl-3.4.0.min.js\", \"https://cdn.bokeh.org/bokeh/release/bokeh-widgets-3.4.0.min.js\", \"https://cdn.bokeh.org/bokeh/release/bokeh-tables-3.4.0.min.js\", \"https://cdn.holoviz.org/panel/1.4.0/dist/panel.min.js\"];\n",
       "  var js_modules = [];\n",
       "  var js_exports = {};\n",
       "  var css_urls = [];\n",
       "  var inline_js = [    function(Bokeh) {\n",
       "      Bokeh.set_log_level(\"info\");\n",
       "    },\n",
       "function(Bokeh) {} // ensure no trailing comma for IE\n",
       "  ];\n",
       "\n",
       "  function run_inline_js() {\n",
       "    if ((root.Bokeh !== undefined) || (force === true)) {\n",
       "      for (var i = 0; i < inline_js.length; i++) {\n",
       "\ttry {\n",
       "          inline_js[i].call(root, root.Bokeh);\n",
       "\t} catch(e) {\n",
       "\t  if (!reloading) {\n",
       "\t    throw e;\n",
       "\t  }\n",
       "\t}\n",
       "      }\n",
       "      // Cache old bokeh versions\n",
       "      if (Bokeh != undefined && !reloading) {\n",
       "\tvar NewBokeh = root.Bokeh;\n",
       "\tif (Bokeh.versions === undefined) {\n",
       "\t  Bokeh.versions = new Map();\n",
       "\t}\n",
       "\tif (NewBokeh.version !== Bokeh.version) {\n",
       "\t  Bokeh.versions.set(NewBokeh.version, NewBokeh)\n",
       "\t}\n",
       "\troot.Bokeh = Bokeh;\n",
       "      }} else if (Date.now() < root._bokeh_timeout) {\n",
       "      setTimeout(run_inline_js, 100);\n",
       "    } else if (!root._bokeh_failed_load) {\n",
       "      console.log(\"Bokeh: BokehJS failed to load within specified timeout.\");\n",
       "      root._bokeh_failed_load = true;\n",
       "    }\n",
       "    root._bokeh_is_initializing = false\n",
       "  }\n",
       "\n",
       "  function load_or_wait() {\n",
       "    // Implement a backoff loop that tries to ensure we do not load multiple\n",
       "    // versions of Bokeh and its dependencies at the same time.\n",
       "    // In recent versions we use the root._bokeh_is_initializing flag\n",
       "    // to determine whether there is an ongoing attempt to initialize\n",
       "    // bokeh, however for backward compatibility we also try to ensure\n",
       "    // that we do not start loading a newer (Panel>=1.0 and Bokeh>3) version\n",
       "    // before older versions are fully initialized.\n",
       "    if (root._bokeh_is_initializing && Date.now() > root._bokeh_timeout) {\n",
       "      root._bokeh_is_initializing = false;\n",
       "      root._bokeh_onload_callbacks = undefined;\n",
       "      console.log(\"Bokeh: BokehJS was loaded multiple times but one version failed to initialize.\");\n",
       "      load_or_wait();\n",
       "    } else if (root._bokeh_is_initializing || (typeof root._bokeh_is_initializing === \"undefined\" && root._bokeh_onload_callbacks !== undefined)) {\n",
       "      setTimeout(load_or_wait, 100);\n",
       "    } else {\n",
       "      root._bokeh_is_initializing = true\n",
       "      root._bokeh_onload_callbacks = []\n",
       "      var bokeh_loaded = Bokeh != null && (Bokeh.version === py_version || (Bokeh.versions !== undefined && Bokeh.versions.has(py_version)));\n",
       "      if (!reloading && !bokeh_loaded) {\n",
       "\troot.Bokeh = undefined;\n",
       "      }\n",
       "      load_libs(css_urls, js_urls, js_modules, js_exports, function() {\n",
       "\tconsole.debug(\"Bokeh: BokehJS plotting callback run at\", now());\n",
       "\trun_inline_js();\n",
       "      });\n",
       "    }\n",
       "  }\n",
       "  // Give older versions of the autoload script a head-start to ensure\n",
       "  // they initialize before we start loading newer version.\n",
       "  setTimeout(load_or_wait, 100)\n",
       "}(window));"
      ],
      "application/vnd.holoviews_load.v0+json": "(function(root) {\n  function now() {\n    return new Date();\n  }\n\n  var force = true;\n  var py_version = '3.4.0'.replace('rc', '-rc.').replace('.dev', '-dev.');\n  var reloading = false;\n  var Bokeh = root.Bokeh;\n\n  if (typeof (root._bokeh_timeout) === \"undefined\" || force) {\n    root._bokeh_timeout = Date.now() + 5000;\n    root._bokeh_failed_load = false;\n  }\n\n  function run_callbacks() {\n    try {\n      root._bokeh_onload_callbacks.forEach(function(callback) {\n        if (callback != null)\n          callback();\n      });\n    } finally {\n      delete root._bokeh_onload_callbacks;\n    }\n    console.debug(\"Bokeh: all callbacks have finished\");\n  }\n\n  function load_libs(css_urls, js_urls, js_modules, js_exports, callback) {\n    if (css_urls == null) css_urls = [];\n    if (js_urls == null) js_urls = [];\n    if (js_modules == null) js_modules = [];\n    if (js_exports == null) js_exports = {};\n\n    root._bokeh_onload_callbacks.push(callback);\n\n    if (root._bokeh_is_loading > 0) {\n      console.debug(\"Bokeh: BokehJS is being loaded, scheduling callback at\", now());\n      return null;\n    }\n    if (js_urls.length === 0 && js_modules.length === 0 && Object.keys(js_exports).length === 0) {\n      run_callbacks();\n      return null;\n    }\n    if (!reloading) {\n      console.debug(\"Bokeh: BokehJS not loaded, scheduling load and callback at\", now());\n    }\n\n    function on_load() {\n      root._bokeh_is_loading--;\n      if (root._bokeh_is_loading === 0) {\n        console.debug(\"Bokeh: all BokehJS libraries/stylesheets loaded\");\n        run_callbacks()\n      }\n    }\n    window._bokeh_on_load = on_load\n\n    function on_error() {\n      console.error(\"failed to load \" + url);\n    }\n\n    var skip = [];\n    if (window.requirejs) {\n      window.requirejs.config({'packages': {}, 'paths': {}, 'shim': {}});\n      root._bokeh_is_loading = css_urls.length + 0;\n    } else {\n      root._bokeh_is_loading = css_urls.length + js_urls.length + js_modules.length + Object.keys(js_exports).length;\n    }\n\n    var existing_stylesheets = []\n    var links = document.getElementsByTagName('link')\n    for (var i = 0; i < links.length; i++) {\n      var link = links[i]\n      if (link.href != null) {\n\texisting_stylesheets.push(link.href)\n      }\n    }\n    for (var i = 0; i < css_urls.length; i++) {\n      var url = css_urls[i];\n      if (existing_stylesheets.indexOf(url) !== -1) {\n\ton_load()\n\tcontinue;\n      }\n      const element = document.createElement(\"link\");\n      element.onload = on_load;\n      element.onerror = on_error;\n      element.rel = \"stylesheet\";\n      element.type = \"text/css\";\n      element.href = url;\n      console.debug(\"Bokeh: injecting link tag for BokehJS stylesheet: \", url);\n      document.body.appendChild(element);\n    }    var existing_scripts = []\n    var scripts = document.getElementsByTagName('script')\n    for (var i = 0; i < scripts.length; i++) {\n      var script = scripts[i]\n      if (script.src != null) {\n\texisting_scripts.push(script.src)\n      }\n    }\n    for (var i = 0; i < js_urls.length; i++) {\n      var url = js_urls[i];\n      if (skip.indexOf(url) !== -1 || existing_scripts.indexOf(url) !== -1) {\n\tif (!window.requirejs) {\n\t  on_load();\n\t}\n\tcontinue;\n      }\n      var element = document.createElement('script');\n      element.onload = on_load;\n      element.onerror = on_error;\n      element.async = false;\n      element.src = url;\n      console.debug(\"Bokeh: injecting script tag for BokehJS library: \", url);\n      document.head.appendChild(element);\n    }\n    for (var i = 0; i < js_modules.length; i++) {\n      var url = js_modules[i];\n      if (skip.indexOf(url) !== -1 || existing_scripts.indexOf(url) !== -1) {\n\tif (!window.requirejs) {\n\t  on_load();\n\t}\n\tcontinue;\n      }\n      var element = document.createElement('script');\n      element.onload = on_load;\n      element.onerror = on_error;\n      element.async = false;\n      element.src = url;\n      element.type = \"module\";\n      console.debug(\"Bokeh: injecting script tag for BokehJS library: \", url);\n      document.head.appendChild(element);\n    }\n    for (const name in js_exports) {\n      var url = js_exports[name];\n      if (skip.indexOf(url) >= 0 || root[name] != null) {\n\tif (!window.requirejs) {\n\t  on_load();\n\t}\n\tcontinue;\n      }\n      var element = document.createElement('script');\n      element.onerror = on_error;\n      element.async = false;\n      element.type = \"module\";\n      console.debug(\"Bokeh: injecting script tag for BokehJS library: \", url);\n      element.textContent = `\n      import ${name} from \"${url}\"\n      window.${name} = ${name}\n      window._bokeh_on_load()\n      `\n      document.head.appendChild(element);\n    }\n    if (!js_urls.length && !js_modules.length) {\n      on_load()\n    }\n  };\n\n  function inject_raw_css(css) {\n    const element = document.createElement(\"style\");\n    element.appendChild(document.createTextNode(css));\n    document.body.appendChild(element);\n  }\n\n  var js_urls = [\"https://cdn.bokeh.org/bokeh/release/bokeh-3.4.0.min.js\", \"https://cdn.bokeh.org/bokeh/release/bokeh-gl-3.4.0.min.js\", \"https://cdn.bokeh.org/bokeh/release/bokeh-widgets-3.4.0.min.js\", \"https://cdn.bokeh.org/bokeh/release/bokeh-tables-3.4.0.min.js\", \"https://cdn.holoviz.org/panel/1.4.0/dist/panel.min.js\"];\n  var js_modules = [];\n  var js_exports = {};\n  var css_urls = [];\n  var inline_js = [    function(Bokeh) {\n      Bokeh.set_log_level(\"info\");\n    },\nfunction(Bokeh) {} // ensure no trailing comma for IE\n  ];\n\n  function run_inline_js() {\n    if ((root.Bokeh !== undefined) || (force === true)) {\n      for (var i = 0; i < inline_js.length; i++) {\n\ttry {\n          inline_js[i].call(root, root.Bokeh);\n\t} catch(e) {\n\t  if (!reloading) {\n\t    throw e;\n\t  }\n\t}\n      }\n      // Cache old bokeh versions\n      if (Bokeh != undefined && !reloading) {\n\tvar NewBokeh = root.Bokeh;\n\tif (Bokeh.versions === undefined) {\n\t  Bokeh.versions = new Map();\n\t}\n\tif (NewBokeh.version !== Bokeh.version) {\n\t  Bokeh.versions.set(NewBokeh.version, NewBokeh)\n\t}\n\troot.Bokeh = Bokeh;\n      }} else if (Date.now() < root._bokeh_timeout) {\n      setTimeout(run_inline_js, 100);\n    } else if (!root._bokeh_failed_load) {\n      console.log(\"Bokeh: BokehJS failed to load within specified timeout.\");\n      root._bokeh_failed_load = true;\n    }\n    root._bokeh_is_initializing = false\n  }\n\n  function load_or_wait() {\n    // Implement a backoff loop that tries to ensure we do not load multiple\n    // versions of Bokeh and its dependencies at the same time.\n    // In recent versions we use the root._bokeh_is_initializing flag\n    // to determine whether there is an ongoing attempt to initialize\n    // bokeh, however for backward compatibility we also try to ensure\n    // that we do not start loading a newer (Panel>=1.0 and Bokeh>3) version\n    // before older versions are fully initialized.\n    if (root._bokeh_is_initializing && Date.now() > root._bokeh_timeout) {\n      root._bokeh_is_initializing = false;\n      root._bokeh_onload_callbacks = undefined;\n      console.log(\"Bokeh: BokehJS was loaded multiple times but one version failed to initialize.\");\n      load_or_wait();\n    } else if (root._bokeh_is_initializing || (typeof root._bokeh_is_initializing === \"undefined\" && root._bokeh_onload_callbacks !== undefined)) {\n      setTimeout(load_or_wait, 100);\n    } else {\n      root._bokeh_is_initializing = true\n      root._bokeh_onload_callbacks = []\n      var bokeh_loaded = Bokeh != null && (Bokeh.version === py_version || (Bokeh.versions !== undefined && Bokeh.versions.has(py_version)));\n      if (!reloading && !bokeh_loaded) {\n\troot.Bokeh = undefined;\n      }\n      load_libs(css_urls, js_urls, js_modules, js_exports, function() {\n\tconsole.debug(\"Bokeh: BokehJS plotting callback run at\", now());\n\trun_inline_js();\n      });\n    }\n  }\n  // Give older versions of the autoload script a head-start to ensure\n  // they initialize before we start loading newer version.\n  setTimeout(load_or_wait, 100)\n}(window));"
     },
     "metadata": {},
     "output_type": "display_data"
    },
    {
     "data": {
      "application/javascript": [
       "\n",
       "if ((window.PyViz === undefined) || (window.PyViz instanceof HTMLElement)) {\n",
       "  window.PyViz = {comms: {}, comm_status:{}, kernels:{}, receivers: {}, plot_index: []}\n",
       "}\n",
       "\n",
       "\n",
       "    function JupyterCommManager() {\n",
       "    }\n",
       "\n",
       "    JupyterCommManager.prototype.register_target = function(plot_id, comm_id, msg_handler) {\n",
       "      if (window.comm_manager || ((window.Jupyter !== undefined) && (Jupyter.notebook.kernel != null))) {\n",
       "        var comm_manager = window.comm_manager || Jupyter.notebook.kernel.comm_manager;\n",
       "        comm_manager.register_target(comm_id, function(comm) {\n",
       "          comm.on_msg(msg_handler);\n",
       "        });\n",
       "      } else if ((plot_id in window.PyViz.kernels) && (window.PyViz.kernels[plot_id])) {\n",
       "        window.PyViz.kernels[plot_id].registerCommTarget(comm_id, function(comm) {\n",
       "          comm.onMsg = msg_handler;\n",
       "        });\n",
       "      } else if (typeof google != 'undefined' && google.colab.kernel != null) {\n",
       "        google.colab.kernel.comms.registerTarget(comm_id, (comm) => {\n",
       "          var messages = comm.messages[Symbol.asyncIterator]();\n",
       "          function processIteratorResult(result) {\n",
       "            var message = result.value;\n",
       "            console.log(message)\n",
       "            var content = {data: message.data, comm_id};\n",
       "            var buffers = []\n",
       "            for (var buffer of message.buffers || []) {\n",
       "              buffers.push(new DataView(buffer))\n",
       "            }\n",
       "            var metadata = message.metadata || {};\n",
       "            var msg = {content, buffers, metadata}\n",
       "            msg_handler(msg);\n",
       "            return messages.next().then(processIteratorResult);\n",
       "          }\n",
       "          return messages.next().then(processIteratorResult);\n",
       "        })\n",
       "      }\n",
       "    }\n",
       "\n",
       "    JupyterCommManager.prototype.get_client_comm = function(plot_id, comm_id, msg_handler) {\n",
       "      if (comm_id in window.PyViz.comms) {\n",
       "        return window.PyViz.comms[comm_id];\n",
       "      } else if (window.comm_manager || ((window.Jupyter !== undefined) && (Jupyter.notebook.kernel != null))) {\n",
       "        var comm_manager = window.comm_manager || Jupyter.notebook.kernel.comm_manager;\n",
       "        var comm = comm_manager.new_comm(comm_id, {}, {}, {}, comm_id);\n",
       "        if (msg_handler) {\n",
       "          comm.on_msg(msg_handler);\n",
       "        }\n",
       "      } else if ((plot_id in window.PyViz.kernels) && (window.PyViz.kernels[plot_id])) {\n",
       "        var comm = window.PyViz.kernels[plot_id].connectToComm(comm_id);\n",
       "        comm.open();\n",
       "        if (msg_handler) {\n",
       "          comm.onMsg = msg_handler;\n",
       "        }\n",
       "      } else if (typeof google != 'undefined' && google.colab.kernel != null) {\n",
       "        var comm_promise = google.colab.kernel.comms.open(comm_id)\n",
       "        comm_promise.then((comm) => {\n",
       "          window.PyViz.comms[comm_id] = comm;\n",
       "          if (msg_handler) {\n",
       "            var messages = comm.messages[Symbol.asyncIterator]();\n",
       "            function processIteratorResult(result) {\n",
       "              var message = result.value;\n",
       "              var content = {data: message.data};\n",
       "              var metadata = message.metadata || {comm_id};\n",
       "              var msg = {content, metadata}\n",
       "              msg_handler(msg);\n",
       "              return messages.next().then(processIteratorResult);\n",
       "            }\n",
       "            return messages.next().then(processIteratorResult);\n",
       "          }\n",
       "        }) \n",
       "        var sendClosure = (data, metadata, buffers, disposeOnDone) => {\n",
       "          return comm_promise.then((comm) => {\n",
       "            comm.send(data, metadata, buffers, disposeOnDone);\n",
       "          });\n",
       "        };\n",
       "        var comm = {\n",
       "          send: sendClosure\n",
       "        };\n",
       "      }\n",
       "      window.PyViz.comms[comm_id] = comm;\n",
       "      return comm;\n",
       "    }\n",
       "    window.PyViz.comm_manager = new JupyterCommManager();\n",
       "    \n",
       "\n",
       "\n",
       "var JS_MIME_TYPE = 'application/javascript';\n",
       "var HTML_MIME_TYPE = 'text/html';\n",
       "var EXEC_MIME_TYPE = 'application/vnd.holoviews_exec.v0+json';\n",
       "var CLASS_NAME = 'output';\n",
       "\n",
       "/**\n",
       " * Render data to the DOM node\n",
       " */\n",
       "function render(props, node) {\n",
       "  var div = document.createElement(\"div\");\n",
       "  var script = document.createElement(\"script\");\n",
       "  node.appendChild(div);\n",
       "  node.appendChild(script);\n",
       "}\n",
       "\n",
       "/**\n",
       " * Handle when a new output is added\n",
       " */\n",
       "function handle_add_output(event, handle) {\n",
       "  var output_area = handle.output_area;\n",
       "  var output = handle.output;\n",
       "  if ((output.data == undefined) || (!output.data.hasOwnProperty(EXEC_MIME_TYPE))) {\n",
       "    return\n",
       "  }\n",
       "  var id = output.metadata[EXEC_MIME_TYPE][\"id\"];\n",
       "  var toinsert = output_area.element.find(\".\" + CLASS_NAME.split(' ')[0]);\n",
       "  if (id !== undefined) {\n",
       "    var nchildren = toinsert.length;\n",
       "    var html_node = toinsert[nchildren-1].children[0];\n",
       "    html_node.innerHTML = output.data[HTML_MIME_TYPE];\n",
       "    var scripts = [];\n",
       "    var nodelist = html_node.querySelectorAll(\"script\");\n",
       "    for (var i in nodelist) {\n",
       "      if (nodelist.hasOwnProperty(i)) {\n",
       "        scripts.push(nodelist[i])\n",
       "      }\n",
       "    }\n",
       "\n",
       "    scripts.forEach( function (oldScript) {\n",
       "      var newScript = document.createElement(\"script\");\n",
       "      var attrs = [];\n",
       "      var nodemap = oldScript.attributes;\n",
       "      for (var j in nodemap) {\n",
       "        if (nodemap.hasOwnProperty(j)) {\n",
       "          attrs.push(nodemap[j])\n",
       "        }\n",
       "      }\n",
       "      attrs.forEach(function(attr) { newScript.setAttribute(attr.name, attr.value) });\n",
       "      newScript.appendChild(document.createTextNode(oldScript.innerHTML));\n",
       "      oldScript.parentNode.replaceChild(newScript, oldScript);\n",
       "    });\n",
       "    if (JS_MIME_TYPE in output.data) {\n",
       "      toinsert[nchildren-1].children[1].textContent = output.data[JS_MIME_TYPE];\n",
       "    }\n",
       "    output_area._hv_plot_id = id;\n",
       "    if ((window.Bokeh !== undefined) && (id in Bokeh.index)) {\n",
       "      window.PyViz.plot_index[id] = Bokeh.index[id];\n",
       "    } else {\n",
       "      window.PyViz.plot_index[id] = null;\n",
       "    }\n",
       "  } else if (output.metadata[EXEC_MIME_TYPE][\"server_id\"] !== undefined) {\n",
       "    var bk_div = document.createElement(\"div\");\n",
       "    bk_div.innerHTML = output.data[HTML_MIME_TYPE];\n",
       "    var script_attrs = bk_div.children[0].attributes;\n",
       "    for (var i = 0; i < script_attrs.length; i++) {\n",
       "      toinsert[toinsert.length - 1].childNodes[1].setAttribute(script_attrs[i].name, script_attrs[i].value);\n",
       "    }\n",
       "    // store reference to server id on output_area\n",
       "    output_area._bokeh_server_id = output.metadata[EXEC_MIME_TYPE][\"server_id\"];\n",
       "  }\n",
       "}\n",
       "\n",
       "/**\n",
       " * Handle when an output is cleared or removed\n",
       " */\n",
       "function handle_clear_output(event, handle) {\n",
       "  var id = handle.cell.output_area._hv_plot_id;\n",
       "  var server_id = handle.cell.output_area._bokeh_server_id;\n",
       "  if (((id === undefined) || !(id in PyViz.plot_index)) && (server_id !== undefined)) { return; }\n",
       "  var comm = window.PyViz.comm_manager.get_client_comm(\"hv-extension-comm\", \"hv-extension-comm\", function () {});\n",
       "  if (server_id !== null) {\n",
       "    comm.send({event_type: 'server_delete', 'id': server_id});\n",
       "    return;\n",
       "  } else if (comm !== null) {\n",
       "    comm.send({event_type: 'delete', 'id': id});\n",
       "  }\n",
       "  delete PyViz.plot_index[id];\n",
       "  if ((window.Bokeh !== undefined) & (id in window.Bokeh.index)) {\n",
       "    var doc = window.Bokeh.index[id].model.document\n",
       "    doc.clear();\n",
       "    const i = window.Bokeh.documents.indexOf(doc);\n",
       "    if (i > -1) {\n",
       "      window.Bokeh.documents.splice(i, 1);\n",
       "    }\n",
       "  }\n",
       "}\n",
       "\n",
       "/**\n",
       " * Handle kernel restart event\n",
       " */\n",
       "function handle_kernel_cleanup(event, handle) {\n",
       "  delete PyViz.comms[\"hv-extension-comm\"];\n",
       "  window.PyViz.plot_index = {}\n",
       "}\n",
       "\n",
       "/**\n",
       " * Handle update_display_data messages\n",
       " */\n",
       "function handle_update_output(event, handle) {\n",
       "  handle_clear_output(event, {cell: {output_area: handle.output_area}})\n",
       "  handle_add_output(event, handle)\n",
       "}\n",
       "\n",
       "function register_renderer(events, OutputArea) {\n",
       "  function append_mime(data, metadata, element) {\n",
       "    // create a DOM node to render to\n",
       "    var toinsert = this.create_output_subarea(\n",
       "    metadata,\n",
       "    CLASS_NAME,\n",
       "    EXEC_MIME_TYPE\n",
       "    );\n",
       "    this.keyboard_manager.register_events(toinsert);\n",
       "    // Render to node\n",
       "    var props = {data: data, metadata: metadata[EXEC_MIME_TYPE]};\n",
       "    render(props, toinsert[0]);\n",
       "    element.append(toinsert);\n",
       "    return toinsert\n",
       "  }\n",
       "\n",
       "  events.on('output_added.OutputArea', handle_add_output);\n",
       "  events.on('output_updated.OutputArea', handle_update_output);\n",
       "  events.on('clear_output.CodeCell', handle_clear_output);\n",
       "  events.on('delete.Cell', handle_clear_output);\n",
       "  events.on('kernel_ready.Kernel', handle_kernel_cleanup);\n",
       "\n",
       "  OutputArea.prototype.register_mime_type(EXEC_MIME_TYPE, append_mime, {\n",
       "    safe: true,\n",
       "    index: 0\n",
       "  });\n",
       "}\n",
       "\n",
       "if (window.Jupyter !== undefined) {\n",
       "  try {\n",
       "    var events = require('base/js/events');\n",
       "    var OutputArea = require('notebook/js/outputarea').OutputArea;\n",
       "    if (OutputArea.prototype.mime_types().indexOf(EXEC_MIME_TYPE) == -1) {\n",
       "      register_renderer(events, OutputArea);\n",
       "    }\n",
       "  } catch(err) {\n",
       "  }\n",
       "}\n"
      ],
      "application/vnd.holoviews_load.v0+json": "\nif ((window.PyViz === undefined) || (window.PyViz instanceof HTMLElement)) {\n  window.PyViz = {comms: {}, comm_status:{}, kernels:{}, receivers: {}, plot_index: []}\n}\n\n\n    function JupyterCommManager() {\n    }\n\n    JupyterCommManager.prototype.register_target = function(plot_id, comm_id, msg_handler) {\n      if (window.comm_manager || ((window.Jupyter !== undefined) && (Jupyter.notebook.kernel != null))) {\n        var comm_manager = window.comm_manager || Jupyter.notebook.kernel.comm_manager;\n        comm_manager.register_target(comm_id, function(comm) {\n          comm.on_msg(msg_handler);\n        });\n      } else if ((plot_id in window.PyViz.kernels) && (window.PyViz.kernels[plot_id])) {\n        window.PyViz.kernels[plot_id].registerCommTarget(comm_id, function(comm) {\n          comm.onMsg = msg_handler;\n        });\n      } else if (typeof google != 'undefined' && google.colab.kernel != null) {\n        google.colab.kernel.comms.registerTarget(comm_id, (comm) => {\n          var messages = comm.messages[Symbol.asyncIterator]();\n          function processIteratorResult(result) {\n            var message = result.value;\n            console.log(message)\n            var content = {data: message.data, comm_id};\n            var buffers = []\n            for (var buffer of message.buffers || []) {\n              buffers.push(new DataView(buffer))\n            }\n            var metadata = message.metadata || {};\n            var msg = {content, buffers, metadata}\n            msg_handler(msg);\n            return messages.next().then(processIteratorResult);\n          }\n          return messages.next().then(processIteratorResult);\n        })\n      }\n    }\n\n    JupyterCommManager.prototype.get_client_comm = function(plot_id, comm_id, msg_handler) {\n      if (comm_id in window.PyViz.comms) {\n        return window.PyViz.comms[comm_id];\n      } else if (window.comm_manager || ((window.Jupyter !== undefined) && (Jupyter.notebook.kernel != null))) {\n        var comm_manager = window.comm_manager || Jupyter.notebook.kernel.comm_manager;\n        var comm = comm_manager.new_comm(comm_id, {}, {}, {}, comm_id);\n        if (msg_handler) {\n          comm.on_msg(msg_handler);\n        }\n      } else if ((plot_id in window.PyViz.kernels) && (window.PyViz.kernels[plot_id])) {\n        var comm = window.PyViz.kernels[plot_id].connectToComm(comm_id);\n        comm.open();\n        if (msg_handler) {\n          comm.onMsg = msg_handler;\n        }\n      } else if (typeof google != 'undefined' && google.colab.kernel != null) {\n        var comm_promise = google.colab.kernel.comms.open(comm_id)\n        comm_promise.then((comm) => {\n          window.PyViz.comms[comm_id] = comm;\n          if (msg_handler) {\n            var messages = comm.messages[Symbol.asyncIterator]();\n            function processIteratorResult(result) {\n              var message = result.value;\n              var content = {data: message.data};\n              var metadata = message.metadata || {comm_id};\n              var msg = {content, metadata}\n              msg_handler(msg);\n              return messages.next().then(processIteratorResult);\n            }\n            return messages.next().then(processIteratorResult);\n          }\n        }) \n        var sendClosure = (data, metadata, buffers, disposeOnDone) => {\n          return comm_promise.then((comm) => {\n            comm.send(data, metadata, buffers, disposeOnDone);\n          });\n        };\n        var comm = {\n          send: sendClosure\n        };\n      }\n      window.PyViz.comms[comm_id] = comm;\n      return comm;\n    }\n    window.PyViz.comm_manager = new JupyterCommManager();\n    \n\n\nvar JS_MIME_TYPE = 'application/javascript';\nvar HTML_MIME_TYPE = 'text/html';\nvar EXEC_MIME_TYPE = 'application/vnd.holoviews_exec.v0+json';\nvar CLASS_NAME = 'output';\n\n/**\n * Render data to the DOM node\n */\nfunction render(props, node) {\n  var div = document.createElement(\"div\");\n  var script = document.createElement(\"script\");\n  node.appendChild(div);\n  node.appendChild(script);\n}\n\n/**\n * Handle when a new output is added\n */\nfunction handle_add_output(event, handle) {\n  var output_area = handle.output_area;\n  var output = handle.output;\n  if ((output.data == undefined) || (!output.data.hasOwnProperty(EXEC_MIME_TYPE))) {\n    return\n  }\n  var id = output.metadata[EXEC_MIME_TYPE][\"id\"];\n  var toinsert = output_area.element.find(\".\" + CLASS_NAME.split(' ')[0]);\n  if (id !== undefined) {\n    var nchildren = toinsert.length;\n    var html_node = toinsert[nchildren-1].children[0];\n    html_node.innerHTML = output.data[HTML_MIME_TYPE];\n    var scripts = [];\n    var nodelist = html_node.querySelectorAll(\"script\");\n    for (var i in nodelist) {\n      if (nodelist.hasOwnProperty(i)) {\n        scripts.push(nodelist[i])\n      }\n    }\n\n    scripts.forEach( function (oldScript) {\n      var newScript = document.createElement(\"script\");\n      var attrs = [];\n      var nodemap = oldScript.attributes;\n      for (var j in nodemap) {\n        if (nodemap.hasOwnProperty(j)) {\n          attrs.push(nodemap[j])\n        }\n      }\n      attrs.forEach(function(attr) { newScript.setAttribute(attr.name, attr.value) });\n      newScript.appendChild(document.createTextNode(oldScript.innerHTML));\n      oldScript.parentNode.replaceChild(newScript, oldScript);\n    });\n    if (JS_MIME_TYPE in output.data) {\n      toinsert[nchildren-1].children[1].textContent = output.data[JS_MIME_TYPE];\n    }\n    output_area._hv_plot_id = id;\n    if ((window.Bokeh !== undefined) && (id in Bokeh.index)) {\n      window.PyViz.plot_index[id] = Bokeh.index[id];\n    } else {\n      window.PyViz.plot_index[id] = null;\n    }\n  } else if (output.metadata[EXEC_MIME_TYPE][\"server_id\"] !== undefined) {\n    var bk_div = document.createElement(\"div\");\n    bk_div.innerHTML = output.data[HTML_MIME_TYPE];\n    var script_attrs = bk_div.children[0].attributes;\n    for (var i = 0; i < script_attrs.length; i++) {\n      toinsert[toinsert.length - 1].childNodes[1].setAttribute(script_attrs[i].name, script_attrs[i].value);\n    }\n    // store reference to server id on output_area\n    output_area._bokeh_server_id = output.metadata[EXEC_MIME_TYPE][\"server_id\"];\n  }\n}\n\n/**\n * Handle when an output is cleared or removed\n */\nfunction handle_clear_output(event, handle) {\n  var id = handle.cell.output_area._hv_plot_id;\n  var server_id = handle.cell.output_area._bokeh_server_id;\n  if (((id === undefined) || !(id in PyViz.plot_index)) && (server_id !== undefined)) { return; }\n  var comm = window.PyViz.comm_manager.get_client_comm(\"hv-extension-comm\", \"hv-extension-comm\", function () {});\n  if (server_id !== null) {\n    comm.send({event_type: 'server_delete', 'id': server_id});\n    return;\n  } else if (comm !== null) {\n    comm.send({event_type: 'delete', 'id': id});\n  }\n  delete PyViz.plot_index[id];\n  if ((window.Bokeh !== undefined) & (id in window.Bokeh.index)) {\n    var doc = window.Bokeh.index[id].model.document\n    doc.clear();\n    const i = window.Bokeh.documents.indexOf(doc);\n    if (i > -1) {\n      window.Bokeh.documents.splice(i, 1);\n    }\n  }\n}\n\n/**\n * Handle kernel restart event\n */\nfunction handle_kernel_cleanup(event, handle) {\n  delete PyViz.comms[\"hv-extension-comm\"];\n  window.PyViz.plot_index = {}\n}\n\n/**\n * Handle update_display_data messages\n */\nfunction handle_update_output(event, handle) {\n  handle_clear_output(event, {cell: {output_area: handle.output_area}})\n  handle_add_output(event, handle)\n}\n\nfunction register_renderer(events, OutputArea) {\n  function append_mime(data, metadata, element) {\n    // create a DOM node to render to\n    var toinsert = this.create_output_subarea(\n    metadata,\n    CLASS_NAME,\n    EXEC_MIME_TYPE\n    );\n    this.keyboard_manager.register_events(toinsert);\n    // Render to node\n    var props = {data: data, metadata: metadata[EXEC_MIME_TYPE]};\n    render(props, toinsert[0]);\n    element.append(toinsert);\n    return toinsert\n  }\n\n  events.on('output_added.OutputArea', handle_add_output);\n  events.on('output_updated.OutputArea', handle_update_output);\n  events.on('clear_output.CodeCell', handle_clear_output);\n  events.on('delete.Cell', handle_clear_output);\n  events.on('kernel_ready.Kernel', handle_kernel_cleanup);\n\n  OutputArea.prototype.register_mime_type(EXEC_MIME_TYPE, append_mime, {\n    safe: true,\n    index: 0\n  });\n}\n\nif (window.Jupyter !== undefined) {\n  try {\n    var events = require('base/js/events');\n    var OutputArea = require('notebook/js/outputarea').OutputArea;\n    if (OutputArea.prototype.mime_types().indexOf(EXEC_MIME_TYPE) == -1) {\n      register_renderer(events, OutputArea);\n    }\n  } catch(err) {\n  }\n}\n"
     },
     "metadata": {},
     "output_type": "display_data"
    },
    {
     "data": {
      "text/html": [
       "<style>*[data-root-id],\n",
       "*[data-root-id] > * {\n",
       "  box-sizing: border-box;\n",
       "  font-family: var(--jp-ui-font-family);\n",
       "  font-size: var(--jp-ui-font-size1);\n",
       "  color: var(--vscode-editor-foreground, var(--jp-ui-font-color1));\n",
       "}\n",
       "\n",
       "/* Override VSCode background color */\n",
       ".cell-output-ipywidget-background:has(\n",
       "    > .cell-output-ipywidget-background > .lm-Widget > *[data-root-id]\n",
       "  ),\n",
       ".cell-output-ipywidget-background:has(> .lm-Widget > *[data-root-id]) {\n",
       "  background-color: transparent !important;\n",
       "}\n",
       "</style>"
      ]
     },
     "metadata": {},
     "output_type": "display_data"
    },
    {
     "data": {
      "application/vnd.holoviews_exec.v0+json": "",
      "text/html": [
       "<div id='38a77178-0ca8-4454-94a8-8d1bb73b9191'>\n",
       "  <div id=\"a3b56e7b-cf5c-42bd-a028-46e696f6cf07\" data-root-id=\"38a77178-0ca8-4454-94a8-8d1bb73b9191\" style=\"display: contents;\"></div>\n",
       "</div>\n",
       "<script type=\"application/javascript\">(function(root) {\n",
       "  var docs_json = {\"3dc112a0-a5dc-4319-8f4b-a7a3d4e38ba1\":{\"version\":\"3.4.0\",\"title\":\"Bokeh Application\",\"roots\":[{\"type\":\"object\",\"name\":\"panel.models.browser.BrowserInfo\",\"id\":\"38a77178-0ca8-4454-94a8-8d1bb73b9191\"},{\"type\":\"object\",\"name\":\"panel.models.comm_manager.CommManager\",\"id\":\"5444cd6e-ecae-42de-ba7c-c4afe254aa49\",\"attributes\":{\"plot_id\":\"38a77178-0ca8-4454-94a8-8d1bb73b9191\",\"comm_id\":\"8da0a6f186ed40e7994dd19d4273fb04\",\"client_comm_id\":\"ba34144070bd410a83b6dbc7d9e00c56\"}}],\"defs\":[{\"type\":\"model\",\"name\":\"ReactiveHTML1\"},{\"type\":\"model\",\"name\":\"FlexBox1\",\"properties\":[{\"name\":\"align_content\",\"kind\":\"Any\",\"default\":\"flex-start\"},{\"name\":\"align_items\",\"kind\":\"Any\",\"default\":\"flex-start\"},{\"name\":\"flex_direction\",\"kind\":\"Any\",\"default\":\"row\"},{\"name\":\"flex_wrap\",\"kind\":\"Any\",\"default\":\"wrap\"},{\"name\":\"justify_content\",\"kind\":\"Any\",\"default\":\"flex-start\"},{\"name\":\"gap\",\"kind\":\"Any\",\"default\":\"\"}]},{\"type\":\"model\",\"name\":\"FloatPanel1\",\"properties\":[{\"name\":\"config\",\"kind\":\"Any\",\"default\":{\"type\":\"map\"}},{\"name\":\"contained\",\"kind\":\"Any\",\"default\":true},{\"name\":\"position\",\"kind\":\"Any\",\"default\":\"right-top\"},{\"name\":\"offsetx\",\"kind\":\"Any\",\"default\":null},{\"name\":\"offsety\",\"kind\":\"Any\",\"default\":null},{\"name\":\"theme\",\"kind\":\"Any\",\"default\":\"primary\"},{\"name\":\"status\",\"kind\":\"Any\",\"default\":\"normalized\"}]},{\"type\":\"model\",\"name\":\"GridStack1\",\"properties\":[{\"name\":\"mode\",\"kind\":\"Any\",\"default\":\"warn\"},{\"name\":\"ncols\",\"kind\":\"Any\",\"default\":null},{\"name\":\"nrows\",\"kind\":\"Any\",\"default\":null},{\"name\":\"allow_resize\",\"kind\":\"Any\",\"default\":true},{\"name\":\"allow_drag\",\"kind\":\"Any\",\"default\":true},{\"name\":\"state\",\"kind\":\"Any\",\"default\":[]}]},{\"type\":\"model\",\"name\":\"drag1\",\"properties\":[{\"name\":\"slider_width\",\"kind\":\"Any\",\"default\":5},{\"name\":\"slider_color\",\"kind\":\"Any\",\"default\":\"black\"},{\"name\":\"value\",\"kind\":\"Any\",\"default\":50}]},{\"type\":\"model\",\"name\":\"click1\",\"properties\":[{\"name\":\"terminal_output\",\"kind\":\"Any\",\"default\":\"\"},{\"name\":\"debug_name\",\"kind\":\"Any\",\"default\":\"\"},{\"name\":\"clears\",\"kind\":\"Any\",\"default\":0}]},{\"type\":\"model\",\"name\":\"FastWrapper1\",\"properties\":[{\"name\":\"object\",\"kind\":\"Any\",\"default\":null},{\"name\":\"style\",\"kind\":\"Any\",\"default\":null}]},{\"type\":\"model\",\"name\":\"NotificationAreaBase1\",\"properties\":[{\"name\":\"js_events\",\"kind\":\"Any\",\"default\":{\"type\":\"map\"}},{\"name\":\"position\",\"kind\":\"Any\",\"default\":\"bottom-right\"},{\"name\":\"_clear\",\"kind\":\"Any\",\"default\":0}]},{\"type\":\"model\",\"name\":\"NotificationArea1\",\"properties\":[{\"name\":\"js_events\",\"kind\":\"Any\",\"default\":{\"type\":\"map\"}},{\"name\":\"notifications\",\"kind\":\"Any\",\"default\":[]},{\"name\":\"position\",\"kind\":\"Any\",\"default\":\"bottom-right\"},{\"name\":\"_clear\",\"kind\":\"Any\",\"default\":0},{\"name\":\"types\",\"kind\":\"Any\",\"default\":[{\"type\":\"map\",\"entries\":[[\"type\",\"warning\"],[\"background\",\"#ffc107\"],[\"icon\",{\"type\":\"map\",\"entries\":[[\"className\",\"fas fa-exclamation-triangle\"],[\"tagName\",\"i\"],[\"color\",\"white\"]]}]]},{\"type\":\"map\",\"entries\":[[\"type\",\"info\"],[\"background\",\"#007bff\"],[\"icon\",{\"type\":\"map\",\"entries\":[[\"className\",\"fas fa-info-circle\"],[\"tagName\",\"i\"],[\"color\",\"white\"]]}]]}]}]},{\"type\":\"model\",\"name\":\"Notification\",\"properties\":[{\"name\":\"background\",\"kind\":\"Any\",\"default\":null},{\"name\":\"duration\",\"kind\":\"Any\",\"default\":3000},{\"name\":\"icon\",\"kind\":\"Any\",\"default\":null},{\"name\":\"message\",\"kind\":\"Any\",\"default\":\"\"},{\"name\":\"notification_type\",\"kind\":\"Any\",\"default\":null},{\"name\":\"_destroyed\",\"kind\":\"Any\",\"default\":false}]},{\"type\":\"model\",\"name\":\"TemplateActions1\",\"properties\":[{\"name\":\"open_modal\",\"kind\":\"Any\",\"default\":0},{\"name\":\"close_modal\",\"kind\":\"Any\",\"default\":0}]},{\"type\":\"model\",\"name\":\"BootstrapTemplateActions1\",\"properties\":[{\"name\":\"open_modal\",\"kind\":\"Any\",\"default\":0},{\"name\":\"close_modal\",\"kind\":\"Any\",\"default\":0}]},{\"type\":\"model\",\"name\":\"TemplateEditor1\",\"properties\":[{\"name\":\"layout\",\"kind\":\"Any\",\"default\":[]}]},{\"type\":\"model\",\"name\":\"MaterialTemplateActions1\",\"properties\":[{\"name\":\"open_modal\",\"kind\":\"Any\",\"default\":0},{\"name\":\"close_modal\",\"kind\":\"Any\",\"default\":0}]},{\"type\":\"model\",\"name\":\"copy_to_clipboard1\",\"properties\":[{\"name\":\"fill\",\"kind\":\"Any\",\"default\":\"none\"},{\"name\":\"value\",\"kind\":\"Any\",\"default\":null}]}]}};\n",
       "  var render_items = [{\"docid\":\"3dc112a0-a5dc-4319-8f4b-a7a3d4e38ba1\",\"roots\":{\"38a77178-0ca8-4454-94a8-8d1bb73b9191\":\"a3b56e7b-cf5c-42bd-a028-46e696f6cf07\"},\"root_ids\":[\"38a77178-0ca8-4454-94a8-8d1bb73b9191\"]}];\n",
       "  var docs = Object.values(docs_json)\n",
       "  if (!docs) {\n",
       "    return\n",
       "  }\n",
       "  const py_version = docs[0].version.replace('rc', '-rc.').replace('.dev', '-dev.')\n",
       "  function embed_document(root) {\n",
       "    var Bokeh = get_bokeh(root)\n",
       "    Bokeh.embed.embed_items_notebook(docs_json, render_items);\n",
       "    for (const render_item of render_items) {\n",
       "      for (const root_id of render_item.root_ids) {\n",
       "\tconst id_el = document.getElementById(root_id)\n",
       "\tif (id_el.children.length && (id_el.children[0].className === 'bk-root')) {\n",
       "\t  const root_el = id_el.children[0]\n",
       "\t  root_el.id = root_el.id + '-rendered'\n",
       "\t}\n",
       "      }\n",
       "    }\n",
       "  }\n",
       "  function get_bokeh(root) {\n",
       "    if (root.Bokeh === undefined) {\n",
       "      return null\n",
       "    } else if (root.Bokeh.version !== py_version) {\n",
       "      if (root.Bokeh.versions === undefined || !root.Bokeh.versions.has(py_version)) {\n",
       "\treturn null\n",
       "      }\n",
       "      return root.Bokeh.versions.get(py_version);\n",
       "    } else if (root.Bokeh.version === py_version) {\n",
       "      return root.Bokeh\n",
       "    }\n",
       "    return null\n",
       "  }\n",
       "  function is_loaded(root) {\n",
       "    var Bokeh = get_bokeh(root)\n",
       "    return (Bokeh != null && Bokeh.Panel !== undefined)\n",
       "  }\n",
       "  if (is_loaded(root)) {\n",
       "    embed_document(root);\n",
       "  } else {\n",
       "    var attempts = 0;\n",
       "    var timer = setInterval(function(root) {\n",
       "      if (is_loaded(root)) {\n",
       "        clearInterval(timer);\n",
       "        embed_document(root);\n",
       "      } else if (document.readyState == \"complete\") {\n",
       "        attempts++;\n",
       "        if (attempts > 200) {\n",
       "          clearInterval(timer);\n",
       "\t  var Bokeh = get_bokeh(root)\n",
       "\t  if (Bokeh == null || Bokeh.Panel == null) {\n",
       "            console.warn(\"Panel: ERROR: Unable to run Panel code because Bokeh or Panel library is missing\");\n",
       "\t  } else {\n",
       "\t    console.warn(\"Panel: WARNING: Attempting to render but not all required libraries could be resolved.\")\n",
       "\t    embed_document(root)\n",
       "\t  }\n",
       "        }\n",
       "      }\n",
       "    }, 25, root)\n",
       "  }\n",
       "})(window);</script>"
      ]
     },
     "metadata": {
      "application/vnd.holoviews_exec.v0+json": {
       "id": "38a77178-0ca8-4454-94a8-8d1bb73b9191"
      }
     },
     "output_type": "display_data"
    }
   ],
   "source": [
    "from Utils import Utils\n",
    "utils = Utils()\n",
    "\n",
    "DLAI_API_KEY = utils.get_dlai_api_key()\n",
    "DLAI_API_URL = utils.get_dlai_url()\n",
    "\n",
    "s = UnstructuredClient(\n",
    "    api_key_auth=DLAI_API_KEY,\n",
    "    server_url=DLAI_API_URL,\n",
    ")"
   ]
  },
  {
   "cell_type": "markdown",
   "id": "be8a0cbd-1545-4dde-ab60-84dcdaa4a51a",
   "metadata": {},
   "source": [
    "<p style=\"background-color:#fff6ff; padding:15px; border-width:3px; border-color:#efe6ef; border-style:solid; border-radius:6px\"> 💻 &nbsp; <b>Access Utils File and Helper Functions:</b> To access helper functions and other related files for this notebook, 1) click on the <em>\"View\"</em> option on the top menu of the notebook and then 2) click on <em>\"File Browser\"</em>. For more help, please see the <em>\"Appendix - Tips and Help\"</em> Lesson.</p>\n"
   ]
  },
  {
   "cell_type": "markdown",
   "id": "ee01e76f-3773-4611-9ad8-5f990ab23eef",
   "metadata": {},
   "source": [
    "## Example Document: Medium Blog HTML Page"
   ]
  },
  {
   "cell_type": "code",
   "execution_count": 4,
   "id": "8753e8a4-859c-41eb-8b5e-101a30ed5b2d",
   "metadata": {},
   "outputs": [
    {
     "data": {
      "image/png": "[encoded data removed]",
      "text/plain": [
       "<IPython.core.display.Image object>"
      ]
     },
     "execution_count": 4,
     "metadata": {
      "image/png": {
       "height": 600,
       "width": 600
      }
     },
     "output_type": "execute_result"
    }
   ],
   "source": [
    "from IPython.display import Image\n",
    "Image(filename=\"images/HTML_demo.png\", height=600, width=600)"
   ]
  },
  {
   "cell_type": "code",
   "execution_count": 5,
   "id": "0265c17e-d9db-4877-a804-74d94596a72e",
   "metadata": {},
   "outputs": [
    {
     "name": "stderr",
     "output_type": "stream",
     "text": [
      "[nltk_data] Downloading package punkt to /home/jovyan/nltk_data...\n",
      "[nltk_data]   Unzipping tokenizers/punkt.zip.\n",
      "[nltk_data] Downloading package averaged_perceptron_tagger to\n",
      "[nltk_data]     /home/jovyan/nltk_data...\n",
      "[nltk_data]   Unzipping taggers/averaged_perceptron_tagger.zip.\n"
     ]
    }
   ],
   "source": [
    "filename = \"example_files/medium_blog.html\"\n",
    "elements = partition_html(filename=filename)"
   ]
  },
  {
   "cell_type": "code",
   "execution_count": 6,
   "id": "b95b0c94-67b2-4cee-8947-00b19a8ff620",
   "metadata": {},
   "outputs": [
    {
     "data": {
      "text/plain": [
       "[<unstructured.documents.html.HTMLTitle at 0x7f297ea87a10>,\n",
       " <unstructured.documents.html.HTMLTitle at 0x7f297caa15d0>,\n",
       " <unstructured.documents.html.HTMLTitle at 0x7f297caa23d0>,\n",
       " <unstructured.documents.html.HTMLTitle at 0x7f297caa2d50>,\n",
       " <unstructured.documents.html.HTMLTitle at 0x7f297caa3250>,\n",
       " <unstructured.documents.html.HTMLTitle at 0x7f297caa3710>,\n",
       " <unstructured.documents.html.HTMLTitle at 0x7f297caa3410>,\n",
       " <unstructured.documents.html.HTMLTitle at 0x7f297caa4f50>,\n",
       " <unstructured.documents.html.HTMLNarrativeText at 0x7f297caa6950>,\n",
       " <unstructured.documents.html.HTMLText at 0x7f297caa7090>,\n",
       " <unstructured.documents.html.HTMLTitle at 0x7f297caa7650>,\n",
       " <unstructured.documents.html.HTMLTitle at 0x7f297cab4350>,\n",
       " <unstructured.documents.html.HTMLNarrativeText at 0x7f297cab5210>,\n",
       " <unstructured.documents.html.HTMLNarrativeText at 0x7f297cab6710>,\n",
       " <unstructured.documents.html.HTMLNarrativeText at 0x7f297cab9490>,\n",
       " <unstructured.documents.html.HTMLTitle at 0x7f297cab96d0>,\n",
       " <unstructured.documents.html.HTMLNarrativeText at 0x7f297cabab10>,\n",
       " <unstructured.documents.html.HTMLListItem at 0x7f297cabae10>,\n",
       " <unstructured.documents.html.HTMLListItem at 0x7f297cabaf90>,\n",
       " <unstructured.documents.html.HTMLListItem at 0x7f297cabb110>,\n",
       " <unstructured.documents.html.HTMLNarrativeText at 0x7f297cabc810>,\n",
       " <unstructured.documents.html.HTMLTitle at 0x7f297cabcad0>,\n",
       " <unstructured.documents.html.HTMLNarrativeText at 0x7f297cabda90>,\n",
       " <unstructured.documents.html.HTMLListItem at 0x7f297cabe150>,\n",
       " <unstructured.documents.html.HTMLListItem at 0x7f297cabdb90>,\n",
       " <unstructured.documents.html.HTMLListItem at 0x7f297cabdc50>,\n",
       " <unstructured.documents.html.HTMLTitle at 0x7f297cabded0>,\n",
       " <unstructured.documents.html.HTMLListItem at 0x7f297cabe450>,\n",
       " <unstructured.documents.html.HTMLNarrativeText at 0x7f297cabf390>,\n",
       " <unstructured.documents.html.HTMLTitle at 0x7f297cac01d0>,\n",
       " <unstructured.documents.html.HTMLNarrativeText at 0x7f297cac10d0>,\n",
       " <unstructured.documents.html.HTMLNarrativeText at 0x7f297cac20d0>,\n",
       " <unstructured.documents.html.HTMLNarrativeText at 0x7f297cac3290>,\n",
       " <unstructured.documents.html.HTMLTitle at 0x7f297cac4350>,\n",
       " <unstructured.documents.html.HTMLNarrativeText at 0x7f297cac5210>,\n",
       " <unstructured.documents.html.HTMLNarrativeText at 0x7f297cac6250>,\n",
       " <unstructured.documents.html.HTMLTitle at 0x7f297cac6f90>,\n",
       " <unstructured.documents.html.HTMLNarrativeText at 0x7f297cac7e50>,\n",
       " <unstructured.documents.html.HTMLTitle at 0x7f297cac8190>,\n",
       " <unstructured.documents.html.HTMLTitle at 0x7f297cac8c10>,\n",
       " <unstructured.documents.html.HTMLTitle at 0x7f297cac9bd0>,\n",
       " <unstructured.documents.html.HTMLTitle at 0x7f297cac9d10>,\n",
       " <unstructured.documents.html.HTMLTitle at 0x7f297caca750>,\n",
       " <unstructured.documents.html.HTMLTitle at 0x7f297cacb050>,\n",
       " <unstructured.documents.html.HTMLTitle at 0x7f297cacb6d0>,\n",
       " <unstructured.documents.html.HTMLTitle at 0x7f297cacc0d0>,\n",
       " <unstructured.documents.html.HTMLListItem at 0x7f297cacc190>,\n",
       " <unstructured.documents.html.HTMLListItem at 0x7f297cacc410>,\n",
       " <unstructured.documents.html.HTMLListItem at 0x7f297cacc550>,\n",
       " <unstructured.documents.html.HTMLListItem at 0x7f297cacc6d0>,\n",
       " <unstructured.documents.html.HTMLListItem at 0x7f297cacc850>,\n",
       " <unstructured.documents.html.HTMLTitle at 0x7f297cacdb50>,\n",
       " <unstructured.documents.html.HTMLNarrativeText at 0x7f297cace4d0>,\n",
       " <unstructured.documents.html.HTMLNarrativeText at 0x7f297cacfb10>,\n",
       " <unstructured.documents.html.HTMLTitle at 0x7f297cad00d0>,\n",
       " <unstructured.documents.html.HTMLNarrativeText at 0x7f297cad1550>,\n",
       " <unstructured.documents.html.HTMLNarrativeText at 0x7f297cad26d0>,\n",
       " <unstructured.documents.html.HTMLTitle at 0x7f297cad2b90>,\n",
       " <unstructured.documents.html.HTMLTitle at 0x7f297cad3510>,\n",
       " <unstructured.documents.html.HTMLTitle at 0x7f297cad3b50>,\n",
       " <unstructured.documents.html.HTMLTitle at 0x7f297cad4150>,\n",
       " <unstructured.documents.html.HTMLTitle at 0x7f297cad4750>,\n",
       " <unstructured.documents.html.HTMLText at 0x7f297cad4d50>,\n",
       " <unstructured.documents.html.HTMLText at 0x7f297cad55d0>,\n",
       " <unstructured.documents.html.HTMLTitle at 0x7f297cad5bd0>,\n",
       " <unstructured.documents.html.HTMLTitle at 0x7f297cad62d0>,\n",
       " <unstructured.documents.html.HTMLTitle at 0x7f297cad6950>,\n",
       " <unstructured.documents.html.HTMLTitle at 0x7f297cad7450>,\n",
       " <unstructured.documents.html.HTMLTitle at 0x7f297cad7890>,\n",
       " <unstructured.documents.html.HTMLTitle at 0x7f297cad83d0>,\n",
       " <unstructured.documents.html.HTMLTitle at 0x7f297cad8a10>,\n",
       " <unstructured.documents.html.HTMLTitle at 0x7f297cad8f90>,\n",
       " <unstructured.documents.html.HTMLTitle at 0x7f297cad9650>,\n",
       " <unstructured.documents.html.HTMLTitle at 0x7f297cad9d10>,\n",
       " <unstructured.documents.html.HTMLTitle at 0x7f297cada3d0>,\n",
       " <unstructured.documents.html.HTMLTitle at 0x7f297cadaa10>,\n",
       " <unstructured.documents.html.HTMLTitle at 0x7f297cadb090>,\n",
       " <unstructured.documents.html.HTMLTitle at 0x7f297cadb690>,\n",
       " <unstructured.documents.html.HTMLNarrativeText at 0x7f297cadbf90>,\n",
       " <unstructured.documents.html.HTMLTitle at 0x7f297cae0690>]"
      ]
     },
     "execution_count": 6,
     "metadata": {},
     "output_type": "execute_result"
    }
   ],
   "source": [
    "elements"
   ]
  },
  {
   "cell_type": "code",
   "execution_count": null,
   "id": "68f55cc9-0d04-4260-a617-9f3ab0c6951f",
   "metadata": {},
   "outputs": [],
   "source": [
    "element_dict = [el.to_dict() for el in elements]\n",
    "example_output = json.dumps(element_dict[11:15], indent=2)\n",
    "print(example_output)"
   ]
  },
  {
   "cell_type": "code",
   "execution_count": 7,
   "id": "f9befd03-e63f-43f9-b76c-728346edfdab",
   "metadata": {},
   "outputs": [
    {
     "name": "stdout",
     "output_type": "stream",
     "text": [
      "[\n",
      "  {\n",
      "    \"type\": \"Title\",\n",
      "    \"element_id\": \"7100b12091b2d2bea5e2d50c46ba4438\",\n",
      "    \"text\": \"Open in app\",\n",
      "    \"metadata\": {\n",
      "      \"category_depth\": 0,\n",
      "      \"last_modified\": \"2024-07-09T12:56:49\",\n",
      "      \"link_texts\": [\n",
      "        \"Open in app\"\n",
      "      ],\n",
      "      \"link_urls\": [\n",
      "        \"https://rsci.app.link/?%24canonical_url=https%3A%2F%2Fmedium.com%2Fp%2F6c2659eda4af&%7Efeature=LoOpenInAppButton&%7Echannel=ShowPostUnderCollection&source=---two_column_layout_nav----------------------------------\"\n",
      "      ],\n",
      "      \"page_number\": 1,\n",
      "      \"languages\": [\n",
      "        \"eng\"\n",
      "      ],\n",
      "      \"file_directory\": \"example_files\",\n",
      "      \"filename\": \"medium_blog.html\",\n",
      "      \"filetype\": \"text/html\"\n",
      "    }\n",
      "  },\n",
      "  {\n",
      "    \"type\": \"Title\",\n",
      "    \"element_id\": \"5e2b8e96503d722e7ebf61b9bc3e9988\",\n",
      "    \"text\": \"Sign up\",\n",
      "    \"metadata\": {\n",
      "      \"category_depth\": 0,\n",
      "      \"last_modified\": \"2024-07-09T12:56:49\",\n",
      "      \"emphasized_text_contents\": [\n",
      "        \"Sign up\"\n",
      "      ],\n",
      "      \"emphasized_text_tags\": [\n",
      "        \"span\"\n",
      "      ],\n",
      "      \"page_number\": 1,\n",
      "      \"languages\": [\n",
      "        \"eng\"\n",
      "      ],\n",
      "      \"file_directory\": \"example_files\",\n",
      "      \"filename\": \"medium_blog.html\",\n",
      "      \"filetype\": \"text/html\"\n",
      "    }\n",
      "  },\n",
      "  {\n",
      "    \"type\": \"Title\",\n",
      "    \"element_id\": \"bfd402b2f6f3812529b55596136d3a11\",\n",
      "    \"text\": \"Sign in\",\n",
      "    \"metadata\": {\n",
      "      \"category_depth\": 0,\n",
      "      \"last_modified\": \"2024-07-09T12:56:49\",\n",
      "      \"emphasized_text_contents\": [\n",
      "        \"Sign in\"\n",
      "      ],\n",
      "      \"emphasized_text_tags\": [\n",
      "        \"span\"\n",
      "      ],\n",
      "      \"link_texts\": [\n",
      "        \"Sign in\"\n",
      "      ],\n",
      "      \"link_urls\": [\n",
      "        \"/m/signin?operation=login&redirect=https%3A%2F%2Fmedium.com%2Funstructured-io%2Feffortless-document-extraction-a-guide-to-using-unstructured-api-and-data-connectors-6c2659eda4af&source=post_page---two_column_layout_nav-----------------------global_nav-----------\"\n",
      "      ],\n",
      "      \"page_number\": 1,\n",
      "      \"languages\": [\n",
      "        \"eng\"\n",
      "      ],\n",
      "      \"file_directory\": \"example_files\",\n",
      "      \"filename\": \"medium_blog.html\",\n",
      "      \"filetype\": \"text/html\"\n",
      "    }\n",
      "  },\n",
      "  {\n",
      "    \"type\": \"Title\",\n",
      "    \"element_id\": \"3f00927a719345edd4a8316599d3b328\",\n",
      "    \"text\": \"Write\",\n",
      "    \"metadata\": {\n",
      "      \"category_depth\": 0,\n",
      "      \"last_modified\": \"2024-07-09T12:56:49\",\n",
      "      \"emphasized_text_contents\": [\n",
      "        \"Write\"\n",
      "      ],\n",
      "      \"emphasized_text_tags\": [\n",
      "        \"span\"\n",
      "      ],\n",
      "      \"link_texts\": [\n",
      "        null\n",
      "      ],\n",
      "      \"link_urls\": [\n",
      "        \"/m/signin?operation=register&redirect=https%3A%2F%2Fmedium.com%2Fnew-story&source=---two_column_layout_nav-----------------------new_post_topnav-----------\"\n",
      "      ],\n",
      "      \"page_number\": 1,\n",
      "      \"languages\": [\n",
      "        \"eng\"\n",
      "      ],\n",
      "      \"file_directory\": \"example_files\",\n",
      "      \"filename\": \"medium_blog.html\",\n",
      "      \"filetype\": \"text/html\"\n",
      "    }\n",
      "  },\n",
      "  {\n",
      "    \"type\": \"Title\",\n",
      "    \"element_id\": \"5e2b8e96503d722e7ebf61b9bc3e9988\",\n",
      "    \"text\": \"Sign up\",\n",
      "    \"metadata\": {\n",
      "      \"category_depth\": 0,\n",
      "      \"last_modified\": \"2024-07-09T12:56:49\",\n",
      "      \"emphasized_text_contents\": [\n",
      "        \"Sign up\"\n",
      "      ],\n",
      "      \"emphasized_text_tags\": [\n",
      "        \"span\"\n",
      "      ],\n",
      "      \"page_number\": 1,\n",
      "      \"languages\": [\n",
      "        \"eng\"\n",
      "      ],\n",
      "      \"file_directory\": \"example_files\",\n",
      "      \"filename\": \"medium_blog.html\",\n",
      "      \"filetype\": \"text/html\"\n",
      "    }\n",
      "  },\n",
      "  {\n",
      "    \"type\": \"Title\",\n",
      "    \"element_id\": \"bfd402b2f6f3812529b55596136d3a11\",\n",
      "    \"text\": \"Sign in\",\n",
      "    \"metadata\": {\n",
      "      \"category_depth\": 0,\n",
      "      \"last_modified\": \"2024-07-09T12:56:49\",\n",
      "      \"emphasized_text_contents\": [\n",
      "        \"Sign in\"\n",
      "      ],\n",
      "      \"emphasized_text_tags\": [\n",
      "        \"span\"\n",
      "      ],\n",
      "      \"link_texts\": [\n",
      "        \"Sign in\"\n",
      "      ],\n",
      "      \"link_urls\": [\n",
      "        \"/m/signin?operation=login&redirect=https%3A%2F%2Fmedium.com%2Funstructured-io%2Feffortless-document-extraction-a-guide-to-using-unstructured-api-and-data-connectors-6c2659eda4af&source=post_page---two_column_layout_nav-----------------------global_nav-----------\"\n",
      "      ],\n",
      "      \"page_number\": 1,\n",
      "      \"languages\": [\n",
      "        \"eng\"\n",
      "      ],\n",
      "      \"file_directory\": \"example_files\",\n",
      "      \"filename\": \"medium_blog.html\",\n",
      "      \"filetype\": \"text/html\"\n",
      "    }\n",
      "  },\n",
      "  {\n",
      "    \"type\": \"Title\",\n",
      "    \"element_id\": \"e39d96a8cdd862d24797a6c70bbf1f4a\",\n",
      "    \"text\": \"Effortless Document Extraction: A Guide to Using Unstructured API and Data Connectors\",\n",
      "    \"metadata\": {\n",
      "      \"category_depth\": 0,\n",
      "      \"last_modified\": \"2024-07-09T12:56:49\",\n",
      "      \"page_number\": 1,\n",
      "      \"languages\": [\n",
      "        \"eng\"\n",
      "      ],\n",
      "      \"file_directory\": \"example_files\",\n",
      "      \"filename\": \"medium_blog.html\",\n",
      "      \"filetype\": \"text/html\"\n",
      "    }\n",
      "  },\n",
      "  {\n",
      "    \"type\": \"Title\",\n",
      "    \"element_id\": \"bb56ce4185858827e8009383eb805c27\",\n",
      "    \"text\": \"Unstructured\\u00b7Follow\",\n",
      "    \"metadata\": {\n",
      "      \"category_depth\": 0,\n",
      "      \"last_modified\": \"2024-07-09T12:56:49\",\n",
      "      \"emphasized_text_contents\": [\n",
      "        \"Unstructured\\u00b7Follow\",\n",
      "        \"\\u00b7\",\n",
      "        \"\\u00b7\",\n",
      "        \"Follow\"\n",
      "      ],\n",
      "      \"emphasized_text_tags\": [\n",
      "        \"span\",\n",
      "        \"span\",\n",
      "        \"span\",\n",
      "        \"span\"\n",
      "      ],\n",
      "      \"link_texts\": [\n",
      "        \"Unstructured\",\n",
      "        \"Follow\"\n",
      "      ],\n",
      "      \"link_urls\": [\n",
      "        \"/@unstructured-io?source=post_page-----6c2659eda4af--------------------------------\",\n",
      "        \"/m/signin?actionUrl=https%3A%2F%2Fmedium.com%2F_%2Fsubscribe%2Fuser%2Fef887e1f3620&operation=register&redirect=https%3A%2F%2Fmedium.com%2Funstructured-io%2Feffortless-document-extraction-a-guide-to-using-unstructured-api-and-data-connectors-6c2659eda4af&user=Unstructured&userId=ef887e1f3620&source=post_page-ef887e1f3620----6c2659eda4af---------------------post_header-----------\"\n",
      "      ],\n",
      "      \"page_number\": 1,\n",
      "      \"languages\": [\n",
      "        \"eng\"\n",
      "      ],\n",
      "      \"file_directory\": \"example_files\",\n",
      "      \"filename\": \"medium_blog.html\",\n",
      "      \"filetype\": \"text/html\"\n",
      "    }\n",
      "  },\n",
      "  {\n",
      "    \"type\": \"NarrativeText\",\n",
      "    \"element_id\": \"73faa33da78673b06dea24713695e0e6\",\n",
      "    \"text\": \"Published inUnstructured\\u00b74 min read\\u00b7Jul 21, 2023\",\n",
      "    \"metadata\": {\n",
      "      \"last_modified\": \"2024-07-09T12:56:49\",\n",
      "      \"emphasized_text_contents\": [\n",
      "        \"Published inUnstructured\\u00b74 min read\\u00b7Jul 21, 2023\",\n",
      "        \"Published in\",\n",
      "        \"\\u00b7\",\n",
      "        \"\\u00b7\",\n",
      "        \"4 min read\\u00b7Jul 21, 2023\",\n",
      "        \"4 min read\",\n",
      "        \"\\u00b7\",\n",
      "        \"\\u00b7\",\n",
      "        \"Jul 21, 2023\"\n",
      "      ],\n",
      "      \"emphasized_text_tags\": [\n",
      "        \"span\",\n",
      "        \"span\",\n",
      "        \"span\",\n",
      "        \"span\",\n",
      "        \"span\",\n",
      "        \"span\",\n",
      "        \"span\",\n",
      "        \"span\",\n",
      "        \"span\"\n",
      "      ],\n",
      "      \"link_texts\": [\n",
      "        null\n",
      "      ],\n",
      "      \"link_urls\": [\n",
      "        \"https://medium.com/unstructured-io?source=post_page-----6c2659eda4af--------------------------------\"\n",
      "      ],\n",
      "      \"page_number\": 1,\n",
      "      \"languages\": [\n",
      "        \"eng\"\n",
      "      ],\n",
      "      \"parent_id\": \"bb56ce4185858827e8009383eb805c27\",\n",
      "      \"file_directory\": \"example_files\",\n",
      "      \"filename\": \"medium_blog.html\",\n",
      "      \"filetype\": \"text/html\"\n",
      "    }\n",
      "  },\n",
      "  {\n",
      "    \"type\": \"UncategorizedText\",\n",
      "    \"element_id\": \"d8156bae0c4243d3742fc4e9774d8ace\",\n",
      "    \"text\": \"--\",\n",
      "    \"metadata\": {\n",
      "      \"last_modified\": \"2024-07-09T12:56:49\",\n",
      "      \"emphasized_text_contents\": [\n",
      "        \"--\"\n",
      "      ],\n",
      "      \"emphasized_text_tags\": [\n",
      "        \"span\"\n",
      "      ],\n",
      "      \"page_number\": 1,\n",
      "      \"languages\": [\n",
      "        \"eng\"\n",
      "      ],\n",
      "      \"parent_id\": \"bb56ce4185858827e8009383eb805c27\",\n",
      "      \"file_directory\": \"example_files\",\n",
      "      \"filename\": \"medium_blog.html\",\n",
      "      \"filetype\": \"text/html\"\n",
      "    }\n",
      "  },\n",
      "  {\n",
      "    \"type\": \"Title\",\n",
      "    \"element_id\": \"225d29f6201e1a635684a6dc0e7a65d1\",\n",
      "    \"text\": \"Listen\",\n",
      "    \"metadata\": {\n",
      "      \"category_depth\": 0,\n",
      "      \"last_modified\": \"2024-07-09T12:56:49\",\n",
      "      \"page_number\": 1,\n",
      "      \"languages\": [\n",
      "        \"eng\"\n",
      "      ],\n",
      "      \"file_directory\": \"example_files\",\n",
      "      \"filename\": \"medium_blog.html\",\n",
      "      \"filetype\": \"text/html\"\n",
      "    }\n",
      "  },\n",
      "  {\n",
      "    \"type\": \"Title\",\n",
      "    \"element_id\": \"29887a5ff9846ccc23327565a07e17fa\",\n",
      "    \"text\": \"Share\",\n",
      "    \"metadata\": {\n",
      "      \"category_depth\": 0,\n",
      "      \"last_modified\": \"2024-07-09T12:56:49\",\n",
      "      \"page_number\": 1,\n",
      "      \"languages\": [\n",
      "        \"eng\"\n",
      "      ],\n",
      "      \"file_directory\": \"example_files\",\n",
      "      \"filename\": \"medium_blog.html\",\n",
      "      \"filetype\": \"text/html\"\n",
      "    }\n",
      "  },\n",
      "  {\n",
      "    \"type\": \"NarrativeText\",\n",
      "    \"element_id\": \"2bc60d779d5ea8114272b3c498f34643\",\n",
      "    \"text\": \"In the vast digital universe, data is the lifeblood that drives decision-making and innovation. But not all data is created equal. Unstructured data in images and documents often hold a wealth of information that can be challenging to extract and analyze.\",\n",
      "    \"metadata\": {\n",
      "      \"last_modified\": \"2024-07-09T12:56:49\",\n",
      "      \"page_number\": 1,\n",
      "      \"languages\": [\n",
      "        \"eng\"\n",
      "      ],\n",
      "      \"parent_id\": \"29887a5ff9846ccc23327565a07e17fa\",\n",
      "      \"file_directory\": \"example_files\",\n",
      "      \"filename\": \"medium_blog.html\",\n",
      "      \"filetype\": \"text/html\"\n",
      "    }\n",
      "  },\n",
      "  {\n",
      "    \"type\": \"NarrativeText\",\n",
      "    \"element_id\": \"03ceadc8956df0cbeb81d1b103e75ba0\",\n",
      "    \"text\": \"Enter Unstructured.io, a powerful tool to extract and efficiently transform structured data. With sixteen and counting pre-built connectors, the API can easily integrate with various data sources, including AWS S3, GitHub, Google Cloud Storage, and more.\",\n",
      "    \"metadata\": {\n",
      "      \"last_modified\": \"2024-07-09T12:56:49\",\n",
      "      \"link_texts\": [\n",
      "        \"Unstructured.io\"\n",
      "      ],\n",
      "      \"link_urls\": [\n",
      "        \"https://www.unstructured.io/\"\n",
      "      ],\n",
      "      \"page_number\": 1,\n",
      "      \"languages\": [\n",
      "        \"eng\"\n",
      "      ],\n",
      "      \"parent_id\": \"29887a5ff9846ccc23327565a07e17fa\",\n",
      "      \"file_directory\": \"example_files\",\n",
      "      \"filename\": \"medium_blog.html\",\n",
      "      \"filetype\": \"text/html\"\n",
      "    }\n",
      "  },\n",
      "  {\n",
      "    \"type\": \"NarrativeText\",\n",
      "    \"element_id\": \"c08851ba52bd7d9d68c0398c1634a1fb\",\n",
      "    \"text\": \"In this guide, we\\u2019ll cover the advantages of using the Unstructured API and Connector module, walk you through a step-by-step process of using it with the S3 Connector as an example, and show you how to be a part of the Unstructured community.\",\n",
      "    \"metadata\": {\n",
      "      \"last_modified\": \"2024-07-09T12:56:49\",\n",
      "      \"page_number\": 1,\n",
      "      \"languages\": [\n",
      "        \"eng\"\n",
      "      ],\n",
      "      \"parent_id\": \"29887a5ff9846ccc23327565a07e17fa\",\n",
      "      \"file_directory\": \"example_files\",\n",
      "      \"filename\": \"medium_blog.html\",\n",
      "      \"filetype\": \"text/html\"\n",
      "    }\n",
      "  },\n",
      "  {\n",
      "    \"type\": \"Title\",\n",
      "    \"element_id\": \"bc01153fed6d9e9a31e458ab594ff5e9\",\n",
      "    \"text\": \"Why Use Unstructured API?\",\n",
      "    \"metadata\": {\n",
      "      \"category_depth\": 0,\n",
      "      \"last_modified\": \"2024-07-09T12:56:49\",\n",
      "      \"page_number\": 1,\n",
      "      \"languages\": [\n",
      "        \"eng\"\n",
      "      ],\n",
      "      \"file_directory\": \"example_files\",\n",
      "      \"filename\": \"medium_blog.html\",\n",
      "      \"filetype\": \"text/html\"\n",
      "    }\n",
      "  },\n",
      "  {\n",
      "    \"type\": \"NarrativeText\",\n",
      "    \"element_id\": \"c26f67b50adaa71a063d82c094b66ca2\",\n",
      "    \"text\": \"Use cases for the Unstructured open-source library and API are vast; the possibilities are endless, from analyzing customer feedback in real time to extracting insights from large document repositories. While the Unstructured open-source library offers robust functionality, using the Unstructured API brings several compelling advantages:\",\n",
      "    \"metadata\": {\n",
      "      \"last_modified\": \"2024-07-09T12:56:49\",\n",
      "      \"link_texts\": [\n",
      "        \"open-source library\",\n",
      "        \"Unstructured API\"\n",
      "      ],\n",
      "      \"link_urls\": [\n",
      "        \"https://github.com/Unstructured-IO/unstructured\",\n",
      "        \"https://github.com/Unstructured-IO/unstructured-api\"\n",
      "      ],\n",
      "      \"page_number\": 1,\n",
      "      \"languages\": [\n",
      "        \"eng\"\n",
      "      ],\n",
      "      \"parent_id\": \"bc01153fed6d9e9a31e458ab594ff5e9\",\n",
      "      \"file_directory\": \"example_files\",\n",
      "      \"filename\": \"medium_blog.html\",\n",
      "      \"filetype\": \"text/html\"\n",
      "    }\n",
      "  },\n",
      "  {\n",
      "    \"type\": \"ListItem\",\n",
      "    \"element_id\": \"b5794d2c4b76499514e220e448470c1d\",\n",
      "    \"text\": \"Ease of Use: Managing dependencies is unnecessary with the API. All you need is an API key, and you\\u2019re ready to go.\",\n",
      "    \"metadata\": {\n",
      "      \"category_depth\": 1,\n",
      "      \"last_modified\": \"2024-07-09T12:56:49\",\n",
      "      \"emphasized_text_contents\": [\n",
      "        \"Ease of Use\"\n",
      "      ],\n",
      "      \"emphasized_text_tags\": [\n",
      "        \"strong\"\n",
      "      ],\n",
      "      \"page_number\": 1,\n",
      "      \"languages\": [\n",
      "        \"eng\"\n",
      "      ],\n",
      "      \"parent_id\": \"bc01153fed6d9e9a31e458ab594ff5e9\",\n",
      "      \"file_directory\": \"example_files\",\n",
      "      \"filename\": \"medium_blog.html\",\n",
      "      \"filetype\": \"text/html\"\n",
      "    }\n",
      "  },\n",
      "  {\n",
      "    \"type\": \"ListItem\",\n",
      "    \"element_id\": \"961663f85dc0348b32349ff6ab25d364\",\n",
      "    \"text\": \"Scalability: Unstructured API can handle large volumes of data, making it perfect for enterprise-scale projects.\",\n",
      "    \"metadata\": {\n",
      "      \"category_depth\": 1,\n",
      "      \"last_modified\": \"2024-07-09T12:56:49\",\n",
      "      \"emphasized_text_contents\": [\n",
      "        \"Scalability\"\n",
      "      ],\n",
      "      \"emphasized_text_tags\": [\n",
      "        \"strong\"\n",
      "      ],\n",
      "      \"page_number\": 1,\n",
      "      \"languages\": [\n",
      "        \"eng\"\n",
      "      ],\n",
      "      \"parent_id\": \"bc01153fed6d9e9a31e458ab594ff5e9\",\n",
      "      \"file_directory\": \"example_files\",\n",
      "      \"filename\": \"medium_blog.html\",\n",
      "      \"filetype\": \"text/html\"\n",
      "    }\n",
      "  },\n",
      "  {\n",
      "    \"type\": \"ListItem\",\n",
      "    \"element_id\": \"f5829696756f14ffa55944be4d002244\",\n",
      "    \"text\": \"Continuous Updates: As a hosted service, the API benefits from constant updates and improvements without requiring manual updates.\",\n",
      "    \"metadata\": {\n",
      "      \"category_depth\": 1,\n",
      "      \"last_modified\": \"2024-07-09T12:56:49\",\n",
      "      \"emphasized_text_contents\": [\n",
      "        \"Continuous Updates\"\n",
      "      ],\n",
      "      \"emphasized_text_tags\": [\n",
      "        \"strong\"\n",
      "      ],\n",
      "      \"page_number\": 1,\n",
      "      \"languages\": [\n",
      "        \"eng\"\n",
      "      ],\n",
      "      \"parent_id\": \"bc01153fed6d9e9a31e458ab594ff5e9\",\n",
      "      \"file_directory\": \"example_files\",\n",
      "      \"filename\": \"medium_blog.html\",\n",
      "      \"filetype\": \"text/html\"\n",
      "    }\n",
      "  },\n",
      "  {\n",
      "    \"type\": \"NarrativeText\",\n",
      "    \"element_id\": \"712ffc116da5456253943369bdc612a8\",\n",
      "    \"text\": \"To show how easy it is, we\\u2019ll walk you through using Unstructured API with S3 Connector step-by-step.\",\n",
      "    \"metadata\": {\n",
      "      \"last_modified\": \"2024-07-09T12:56:49\",\n",
      "      \"page_number\": 1,\n",
      "      \"languages\": [\n",
      "        \"eng\"\n",
      "      ],\n",
      "      \"parent_id\": \"bc01153fed6d9e9a31e458ab594ff5e9\",\n",
      "      \"file_directory\": \"example_files\",\n",
      "      \"filename\": \"medium_blog.html\",\n",
      "      \"filetype\": \"text/html\"\n",
      "    }\n",
      "  },\n",
      "  {\n",
      "    \"type\": \"Title\",\n",
      "    \"element_id\": \"46269d4d8bf8baa1c1b89a03d38725e7\",\n",
      "    \"text\": \"Guide to Using Unstructured API\",\n",
      "    \"metadata\": {\n",
      "      \"category_depth\": 0,\n",
      "      \"last_modified\": \"2024-07-09T12:56:49\",\n",
      "      \"page_number\": 1,\n",
      "      \"languages\": [\n",
      "        \"eng\"\n",
      "      ],\n",
      "      \"file_directory\": \"example_files\",\n",
      "      \"filename\": \"medium_blog.html\",\n",
      "      \"filetype\": \"text/html\"\n",
      "    }\n",
      "  },\n",
      "  {\n",
      "    \"type\": \"NarrativeText\",\n",
      "    \"element_id\": \"df9bf89acf8c6afac2090a3a43190e09\",\n",
      "    \"text\": \"Before we start, you will need the following:\",\n",
      "    \"metadata\": {\n",
      "      \"last_modified\": \"2024-07-09T12:56:49\",\n",
      "      \"page_number\": 1,\n",
      "      \"languages\": [\n",
      "        \"eng\"\n",
      "      ],\n",
      "      \"parent_id\": \"46269d4d8bf8baa1c1b89a03d38725e7\",\n",
      "      \"file_directory\": \"example_files\",\n",
      "      \"filename\": \"medium_blog.html\",\n",
      "      \"filetype\": \"text/html\"\n",
      "    }\n",
      "  },\n",
      "  {\n",
      "    \"type\": \"ListItem\",\n",
      "    \"element_id\": \"f0c38e026e0cabc466f5b35a33dea3db\",\n",
      "    \"text\": \"An Unstructured API Key and unstructured-ingest library installed\",\n",
      "    \"metadata\": {\n",
      "      \"category_depth\": 1,\n",
      "      \"last_modified\": \"2024-07-09T12:56:49\",\n",
      "      \"page_number\": 1,\n",
      "      \"languages\": [\n",
      "        \"eng\"\n",
      "      ],\n",
      "      \"parent_id\": \"46269d4d8bf8baa1c1b89a03d38725e7\",\n",
      "      \"file_directory\": \"example_files\",\n",
      "      \"filename\": \"medium_blog.html\",\n",
      "      \"filetype\": \"text/html\"\n",
      "    }\n",
      "  },\n",
      "  {\n",
      "    \"type\": \"ListItem\",\n",
      "    \"element_id\": \"01af5644029c338539789f729935cef8\",\n",
      "    \"text\": \"An AWS S3 bucket with documents you want to process\",\n",
      "    \"metadata\": {\n",
      "      \"category_depth\": 1,\n",
      "      \"last_modified\": \"2024-07-09T12:56:49\",\n",
      "      \"page_number\": 1,\n",
      "      \"languages\": [\n",
      "        \"eng\"\n",
      "      ],\n",
      "      \"parent_id\": \"46269d4d8bf8baa1c1b89a03d38725e7\",\n",
      "      \"file_directory\": \"example_files\",\n",
      "      \"filename\": \"medium_blog.html\",\n",
      "      \"filetype\": \"text/html\"\n",
      "    }\n",
      "  },\n",
      "  {\n",
      "    \"type\": \"ListItem\",\n",
      "    \"element_id\": \"88b59938f678fdce32f372767d7ab7cd\",\n",
      "    \"text\": \"Basic knowledge of command-line operations\",\n",
      "    \"metadata\": {\n",
      "      \"category_depth\": 1,\n",
      "      \"last_modified\": \"2024-07-09T12:56:49\",\n",
      "      \"page_number\": 1,\n",
      "      \"languages\": [\n",
      "        \"eng\"\n",
      "      ],\n",
      "      \"parent_id\": \"46269d4d8bf8baa1c1b89a03d38725e7\",\n",
      "      \"file_directory\": \"example_files\",\n",
      "      \"filename\": \"medium_blog.html\",\n",
      "      \"filetype\": \"text/html\"\n",
      "    }\n",
      "  },\n",
      "  {\n",
      "    \"type\": \"Title\",\n",
      "    \"element_id\": \"fddb3001645a987a8ca0d5f035cdeb6f\",\n",
      "    \"text\": \"Step-by-Step Process:\",\n",
      "    \"metadata\": {\n",
      "      \"category_depth\": 0,\n",
      "      \"last_modified\": \"2024-07-09T12:56:49\",\n",
      "      \"page_number\": 1,\n",
      "      \"languages\": [\n",
      "        \"eng\"\n",
      "      ],\n",
      "      \"file_directory\": \"example_files\",\n",
      "      \"filename\": \"medium_blog.html\",\n",
      "      \"filetype\": \"text/html\"\n",
      "    }\n",
      "  },\n",
      "  {\n",
      "    \"type\": \"ListItem\",\n",
      "    \"element_id\": \"8bcd1e9c3bf345a27b4dd1b98e8e2066\",\n",
      "    \"text\": \"Get your Unstructured API Key\",\n",
      "    \"metadata\": {\n",
      "      \"category_depth\": 1,\n",
      "      \"last_modified\": \"2024-07-09T12:56:49\",\n",
      "      \"emphasized_text_contents\": [\n",
      "        \"Get your Unstructured API Key\"\n",
      "      ],\n",
      "      \"emphasized_text_tags\": [\n",
      "        \"strong\"\n",
      "      ],\n",
      "      \"page_number\": 1,\n",
      "      \"languages\": [\n",
      "        \"eng\"\n",
      "      ],\n",
      "      \"parent_id\": \"fddb3001645a987a8ca0d5f035cdeb6f\",\n",
      "      \"file_directory\": \"example_files\",\n",
      "      \"filename\": \"medium_blog.html\",\n",
      "      \"filetype\": \"text/html\"\n",
      "    }\n",
      "  },\n",
      "  {\n",
      "    \"type\": \"NarrativeText\",\n",
      "    \"element_id\": \"119f0d343f32c5f5e4b59f3e4b362eb7\",\n",
      "    \"text\": \"First, request an API Key by entering your `Organization Name` and `Email` on the request form. This key is your passport to the powerful features of the Unstructured API.\",\n",
      "    \"metadata\": {\n",
      "      \"last_modified\": \"2024-07-09T12:56:49\",\n",
      "      \"link_texts\": [\n",
      "        \"the request form\"\n",
      "      ],\n",
      "      \"link_urls\": [\n",
      "        \"https://unstructured.io/#get-api-key\"\n",
      "      ],\n",
      "      \"page_number\": 1,\n",
      "      \"languages\": [\n",
      "        \"eng\"\n",
      "      ],\n",
      "      \"parent_id\": \"fddb3001645a987a8ca0d5f035cdeb6f\",\n",
      "      \"file_directory\": \"example_files\",\n",
      "      \"filename\": \"medium_blog.html\",\n",
      "      \"filetype\": \"text/html\"\n",
      "    }\n",
      "  },\n",
      "  {\n",
      "    \"type\": \"Title\",\n",
      "    \"element_id\": \"3ee524ac1f6e08c6981e77d12a21ed49\",\n",
      "    \"text\": \"2. Explore the Pre-Built Data Connectors\",\n",
      "    \"metadata\": {\n",
      "      \"category_depth\": 0,\n",
      "      \"last_modified\": \"2024-07-09T12:56:49\",\n",
      "      \"emphasized_text_contents\": [\n",
      "        \"2. Explore the Pre-Built Data Connectors\"\n",
      "      ],\n",
      "      \"emphasized_text_tags\": [\n",
      "        \"strong\"\n",
      "      ],\n",
      "      \"page_number\": 1,\n",
      "      \"languages\": [\n",
      "        \"eng\"\n",
      "      ],\n",
      "      \"file_directory\": \"example_files\",\n",
      "      \"filename\": \"medium_blog.html\",\n",
      "      \"filetype\": \"text/html\"\n",
      "    }\n",
      "  },\n",
      "  {\n",
      "    \"type\": \"NarrativeText\",\n",
      "    \"element_id\": \"948ba9f0406c08090295cbcc297e7572\",\n",
      "    \"text\": \"The ability to connect with various data sources is crucial in data processing. Unstructured\\u2019s Connectors module is designed to provide this flexibility, allowing you to seamlessly integrate your preprocessing pipeline with your preferred data storage platforms.\",\n",
      "    \"metadata\": {\n",
      "      \"last_modified\": \"2024-07-09T12:56:49\",\n",
      "      \"link_texts\": [\n",
      "        \"Connectors module\"\n",
      "      ],\n",
      "      \"link_urls\": [\n",
      "        \"https://unstructured-io.github.io/unstructured/connectors.html\"\n",
      "      ],\n",
      "      \"page_number\": 1,\n",
      "      \"languages\": [\n",
      "        \"eng\"\n",
      "      ],\n",
      "      \"parent_id\": \"3ee524ac1f6e08c6981e77d12a21ed49\",\n",
      "      \"file_directory\": \"example_files\",\n",
      "      \"filename\": \"medium_blog.html\",\n",
      "      \"filetype\": \"text/html\"\n",
      "    }\n",
      "  },\n",
      "  {\n",
      "    \"type\": \"NarrativeText\",\n",
      "    \"element_id\": \"6002d1bafd34126cb361550c3edbe4cf\",\n",
      "    \"text\": \"The Connector module enables you to batch-process all your documents and store structured outputs locally on your file system. This module also supports various connectors designed for a specific data storage platform.\",\n",
      "    \"metadata\": {\n",
      "      \"last_modified\": \"2024-07-09T12:56:49\",\n",
      "      \"page_number\": 1,\n",
      "      \"languages\": [\n",
      "        \"eng\"\n",
      "      ],\n",
      "      \"parent_id\": \"3ee524ac1f6e08c6981e77d12a21ed49\",\n",
      "      \"file_directory\": \"example_files\",\n",
      "      \"filename\": \"medium_blog.html\",\n",
      "      \"filetype\": \"text/html\"\n",
      "    }\n",
      "  },\n",
      "  {\n",
      "    \"type\": \"NarrativeText\",\n",
      "    \"element_id\": \"b5a97066241888ae643a4e5d9c948ee7\",\n",
      "    \"text\": \"Currently, the Unstructured API supports over a dozen pre-built connectors, each designed to integrate seamlessly with different data sources. These include AWS S3, Google Cloud Storage, Azure Blob Storage, and more. This guide will focus on the S3 Connector as an example.\",\n",
      "    \"metadata\": {\n",
      "      \"last_modified\": \"2024-07-09T12:56:49\",\n",
      "      \"page_number\": 1,\n",
      "      \"languages\": [\n",
      "        \"eng\"\n",
      "      ],\n",
      "      \"parent_id\": \"3ee524ac1f6e08c6981e77d12a21ed49\",\n",
      "      \"file_directory\": \"example_files\",\n",
      "      \"filename\": \"medium_blog.html\",\n",
      "      \"filetype\": \"text/html\"\n",
      "    }\n",
      "  },\n",
      "  {\n",
      "    \"type\": \"Title\",\n",
      "    \"element_id\": \"92f45ecc0d7d1cce737977a2a381c94f\",\n",
      "    \"text\": \"3. Run Unstructured API with the S3 Connector\",\n",
      "    \"metadata\": {\n",
      "      \"category_depth\": 0,\n",
      "      \"last_modified\": \"2024-07-09T12:56:49\",\n",
      "      \"emphasized_text_contents\": [\n",
      "        \"3. Run Unstructured API with the S3 Connector\"\n",
      "      ],\n",
      "      \"emphasized_text_tags\": [\n",
      "        \"strong\"\n",
      "      ],\n",
      "      \"page_number\": 1,\n",
      "      \"languages\": [\n",
      "        \"eng\"\n",
      "      ],\n",
      "      \"file_directory\": \"example_files\",\n",
      "      \"filename\": \"medium_blog.html\",\n",
      "      \"filetype\": \"text/html\"\n",
      "    }\n",
      "  },\n",
      "  {\n",
      "    \"type\": \"NarrativeText\",\n",
      "    \"element_id\": \"7f48d6ea70ab0339f9c271b68b84f4bf\",\n",
      "    \"text\": \"With your API key and S3 bucket ready, it\\u2019s time to run the Unstructured API. To run the `unstructured-ingest` command, you need to install the unstructured open-source library that can be easily obtained from this GitHub repository.\",\n",
      "    \"metadata\": {\n",
      "      \"last_modified\": \"2024-07-09T12:56:49\",\n",
      "      \"link_texts\": [\n",
      "        \"GitHub repository\"\n",
      "      ],\n",
      "      \"link_urls\": [\n",
      "        \"https://github.com/Unstructured-IO/unstructured\"\n",
      "      ],\n",
      "      \"page_number\": 1,\n",
      "      \"languages\": [\n",
      "        \"eng\"\n",
      "      ],\n",
      "      \"parent_id\": \"92f45ecc0d7d1cce737977a2a381c94f\",\n",
      "      \"file_directory\": \"example_files\",\n",
      "      \"filename\": \"medium_blog.html\",\n",
      "      \"filetype\": \"text/html\"\n",
      "    }\n",
      "  },\n",
      "  {\n",
      "    \"type\": \"NarrativeText\",\n",
      "    \"element_id\": \"864114373fd64d7d1a2992c85296ca21\",\n",
      "    \"text\": \"Simply follow the instructions in the repository to install the library and start using the API command easily. As stated on the installation notes, please make sure to install the following extras when installing unstructured, needed for the following command:\",\n",
      "    \"metadata\": {\n",
      "      \"last_modified\": \"2024-07-09T12:56:49\",\n",
      "      \"link_texts\": [\n",
      "        \"installation notes\"\n",
      "      ],\n",
      "      \"link_urls\": [\n",
      "        \"https://github.com/Unstructured-IO/unstructured/blob/main/Ingest.md\"\n",
      "      ],\n",
      "      \"page_number\": 1,\n",
      "      \"languages\": [\n",
      "        \"eng\"\n",
      "      ],\n",
      "      \"parent_id\": \"92f45ecc0d7d1cce737977a2a381c94f\",\n",
      "      \"file_directory\": \"example_files\",\n",
      "      \"filename\": \"medium_blog.html\",\n",
      "      \"filetype\": \"text/html\"\n",
      "    }\n",
      "  },\n",
      "  {\n",
      "    \"type\": \"Title\",\n",
      "    \"element_id\": \"79772182a778caa3f714d5660915cf81\",\n",
      "    \"text\": \"pip install \\\"unstructured[s3,pdf]\\\"\",\n",
      "    \"metadata\": {\n",
      "      \"category_depth\": 0,\n",
      "      \"last_modified\": \"2024-07-09T12:56:49\",\n",
      "      \"emphasized_text_contents\": [\n",
      "        \"pip install \\\"unstructured[s3,pdf]\\\"\"\n",
      "      ],\n",
      "      \"emphasized_text_tags\": [\n",
      "        \"span\"\n",
      "      ],\n",
      "      \"page_number\": 1,\n",
      "      \"languages\": [\n",
      "        \"eng\"\n",
      "      ],\n",
      "      \"file_directory\": \"example_files\",\n",
      "      \"filename\": \"medium_blog.html\",\n",
      "      \"filetype\": \"text/html\"\n",
      "    }\n",
      "  },\n",
      "  {\n",
      "    \"type\": \"NarrativeText\",\n",
      "    \"element_id\": \"805c8700d4e1d2dd5cba3eb4c8dcfcc2\",\n",
      "    \"text\": \"This command will process the documents in your S3 bucket:\",\n",
      "    \"metadata\": {\n",
      "      \"last_modified\": \"2024-07-09T12:56:49\",\n",
      "      \"page_number\": 1,\n",
      "      \"languages\": [\n",
      "        \"eng\"\n",
      "      ],\n",
      "      \"parent_id\": \"79772182a778caa3f714d5660915cf81\",\n",
      "      \"file_directory\": \"example_files\",\n",
      "      \"filename\": \"medium_blog.html\",\n",
      "      \"filetype\": \"text/html\"\n",
      "    }\n",
      "  },\n",
      "  {\n",
      "    \"type\": \"Title\",\n",
      "    \"element_id\": \"4dfa2308cbe4870a2c47948142c50719\",\n",
      "    \"text\": \"unstructured-ingest s3 \\\\\",\n",
      "    \"metadata\": {\n",
      "      \"category_depth\": 0,\n",
      "      \"last_modified\": \"2024-07-09T12:56:49\",\n",
      "      \"emphasized_text_contents\": [\n",
      "        \"unstructured-ingest s3 \\\\\"\n",
      "      ],\n",
      "      \"emphasized_text_tags\": [\n",
      "        \"span\"\n",
      "      ],\n",
      "      \"page_number\": 1,\n",
      "      \"languages\": [\n",
      "        \"eng\"\n",
      "      ],\n",
      "      \"file_directory\": \"example_files\",\n",
      "      \"filename\": \"medium_blog.html\",\n",
      "      \"filetype\": \"text/html\"\n",
      "    }\n",
      "  },\n",
      "  {\n",
      "    \"type\": \"Title\",\n",
      "    \"element_id\": \"0ba238ba3144281e6ee857366e052db9\",\n",
      "    \"text\": \"--remote-url s3://utic-dev-tech-fixtures/small-pdf-set/ \\\\\",\n",
      "    \"metadata\": {\n",
      "      \"category_depth\": 0,\n",
      "      \"last_modified\": \"2024-07-09T12:56:49\",\n",
      "      \"page_number\": 1,\n",
      "      \"languages\": [\n",
      "        \"eng\"\n",
      "      ],\n",
      "      \"file_directory\": \"example_files\",\n",
      "      \"filename\": \"medium_blog.html\",\n",
      "      \"filetype\": \"text/html\"\n",
      "    }\n",
      "  },\n",
      "  {\n",
      "    \"type\": \"Title\",\n",
      "    \"element_id\": \"1c45baa959bd9910aad16004f0124fb8\",\n",
      "    \"text\": \"--anonymous \\\\\",\n",
      "    \"metadata\": {\n",
      "      \"category_depth\": 0,\n",
      "      \"last_modified\": \"2024-07-09T12:56:49\",\n",
      "      \"page_number\": 1,\n",
      "      \"languages\": [\n",
      "        \"eng\"\n",
      "      ],\n",
      "      \"file_directory\": \"example_files\",\n",
      "      \"filename\": \"medium_blog.html\",\n",
      "      \"filetype\": \"text/html\"\n",
      "    }\n",
      "  },\n",
      "  {\n",
      "    \"type\": \"Title\",\n",
      "    \"element_id\": \"a3731aad5600b354f3e2ea968cca304c\",\n",
      "    \"text\": \"--structured-output-dir s3-small-batch-output \\\\\",\n",
      "    \"metadata\": {\n",
      "      \"category_depth\": 0,\n",
      "      \"last_modified\": \"2024-07-09T12:56:49\",\n",
      "      \"page_number\": 1,\n",
      "      \"languages\": [\n",
      "        \"eng\"\n",
      "      ],\n",
      "      \"file_directory\": \"example_files\",\n",
      "      \"filename\": \"medium_blog.html\",\n",
      "      \"filetype\": \"text/html\"\n",
      "    }\n",
      "  },\n",
      "  {\n",
      "    \"type\": \"Title\",\n",
      "    \"element_id\": \"ae228fbcea8b42074677b158c54bdcf3\",\n",
      "    \"text\": \"--num-processes 8 \\\\\",\n",
      "    \"metadata\": {\n",
      "      \"category_depth\": 0,\n",
      "      \"last_modified\": \"2024-07-09T12:56:49\",\n",
      "      \"page_number\": 1,\n",
      "      \"languages\": [\n",
      "        \"eng\"\n",
      "      ],\n",
      "      \"file_directory\": \"example_files\",\n",
      "      \"filename\": \"medium_blog.html\",\n",
      "      \"filetype\": \"text/html\"\n",
      "    }\n",
      "  },\n",
      "  {\n",
      "    \"type\": \"Title\",\n",
      "    \"element_id\": \"4377321a0c4d5f2d62397c35e1bca9a4\",\n",
      "    \"text\": \"--api-key <<YOUR-API-KEY> \\\\\",\n",
      "    \"metadata\": {\n",
      "      \"category_depth\": 0,\n",
      "      \"last_modified\": \"2024-07-09T12:56:49\",\n",
      "      \"page_number\": 1,\n",
      "      \"languages\": [\n",
      "        \"eng\"\n",
      "      ],\n",
      "      \"file_directory\": \"example_files\",\n",
      "      \"filename\": \"medium_blog.html\",\n",
      "      \"filetype\": \"text/html\"\n",
      "    }\n",
      "  },\n",
      "  {\n",
      "    \"type\": \"Title\",\n",
      "    \"element_id\": \"4b628070bf19bc5c56449a5a447999ec\",\n",
      "    \"text\": \"--partition-by-api\",\n",
      "    \"metadata\": {\n",
      "      \"category_depth\": 0,\n",
      "      \"last_modified\": \"2024-07-09T12:56:49\",\n",
      "      \"page_number\": 1,\n",
      "      \"languages\": [\n",
      "        \"eng\"\n",
      "      ],\n",
      "      \"file_directory\": \"example_files\",\n",
      "      \"filename\": \"medium_blog.html\",\n",
      "      \"filetype\": \"text/html\"\n",
      "    }\n",
      "  },\n",
      "  {\n",
      "    \"type\": \"Title\",\n",
      "    \"element_id\": \"32fb1e9197ba45dfb46c93353b83bdfc\",\n",
      "    \"text\": \"Explanations:\",\n",
      "    \"metadata\": {\n",
      "      \"category_depth\": 0,\n",
      "      \"last_modified\": \"2024-07-09T12:56:49\",\n",
      "      \"emphasized_text_contents\": [\n",
      "        \"Explanations:\"\n",
      "      ],\n",
      "      \"emphasized_text_tags\": [\n",
      "        \"strong\"\n",
      "      ],\n",
      "      \"page_number\": 1,\n",
      "      \"languages\": [\n",
      "        \"eng\"\n",
      "      ],\n",
      "      \"file_directory\": \"example_files\",\n",
      "      \"filename\": \"medium_blog.html\",\n",
      "      \"filetype\": \"text/html\"\n",
      "    }\n",
      "  },\n",
      "  {\n",
      "    \"type\": \"ListItem\",\n",
      "    \"element_id\": \"7355e3da1d484c96aba3f04a2111bf5e\",\n",
      "    \"text\": \"Include --api-key from the earlier step in your API call.\",\n",
      "    \"metadata\": {\n",
      "      \"category_depth\": 1,\n",
      "      \"last_modified\": \"2024-07-09T12:56:49\",\n",
      "      \"page_number\": 1,\n",
      "      \"languages\": [\n",
      "        \"eng\"\n",
      "      ],\n",
      "      \"parent_id\": \"32fb1e9197ba45dfb46c93353b83bdfc\",\n",
      "      \"file_directory\": \"example_files\",\n",
      "      \"filename\": \"medium_blog.html\",\n",
      "      \"filetype\": \"text/html\"\n",
      "    }\n",
      "  },\n",
      "  {\n",
      "    \"type\": \"ListItem\",\n",
      "    \"element_id\": \"c76a0e1690b0d0ceb0249ca0e9bfe2ac\",\n",
      "    \"text\": \"Use the --partition-by-api flag to indicate running the partition through API rather than the library.\",\n",
      "    \"metadata\": {\n",
      "      \"category_depth\": 1,\n",
      "      \"last_modified\": \"2024-07-09T12:56:49\",\n",
      "      \"page_number\": 1,\n",
      "      \"languages\": [\n",
      "        \"eng\"\n",
      "      ],\n",
      "      \"parent_id\": \"32fb1e9197ba45dfb46c93353b83bdfc\",\n",
      "      \"file_directory\": \"example_files\",\n",
      "      \"filename\": \"medium_blog.html\",\n",
      "      \"filetype\": \"text/html\"\n",
      "    }\n",
      "  },\n",
      "  {\n",
      "    \"type\": \"ListItem\",\n",
      "    \"element_id\": \"4aee62dfec352fadb904645e1a670c97\",\n",
      "    \"text\": \"Specify --num-processesto distribute the workload across multiple processes.\",\n",
      "    \"metadata\": {\n",
      "      \"category_depth\": 1,\n",
      "      \"last_modified\": \"2024-07-09T12:56:49\",\n",
      "      \"page_number\": 1,\n",
      "      \"languages\": [\n",
      "        \"eng\"\n",
      "      ],\n",
      "      \"parent_id\": \"32fb1e9197ba45dfb46c93353b83bdfc\",\n",
      "      \"file_directory\": \"example_files\",\n",
      "      \"filename\": \"medium_blog.html\",\n",
      "      \"filetype\": \"text/html\"\n",
      "    }\n",
      "  },\n",
      "  {\n",
      "    \"type\": \"ListItem\",\n",
      "    \"element_id\": \"80e75bc5834333b5727341f8f87d53a5\",\n",
      "    \"text\": \"Use --anonymousto make an API request to S3 without local AWS credentials.\",\n",
      "    \"metadata\": {\n",
      "      \"category_depth\": 1,\n",
      "      \"last_modified\": \"2024-07-09T12:56:49\",\n",
      "      \"page_number\": 1,\n",
      "      \"languages\": [\n",
      "        \"eng\"\n",
      "      ],\n",
      "      \"parent_id\": \"32fb1e9197ba45dfb46c93353b83bdfc\",\n",
      "      \"file_directory\": \"example_files\",\n",
      "      \"filename\": \"medium_blog.html\",\n",
      "      \"filetype\": \"text/html\"\n",
      "    }\n",
      "  },\n",
      "  {\n",
      "    \"type\": \"ListItem\",\n",
      "    \"element_id\": \"130a4c38f3569935d2282fc1e38df76a\",\n",
      "    \"text\": \"Set the output directory using --structured-output-dirparameter.\",\n",
      "    \"metadata\": {\n",
      "      \"category_depth\": 1,\n",
      "      \"last_modified\": \"2024-07-09T12:56:49\",\n",
      "      \"page_number\": 1,\n",
      "      \"languages\": [\n",
      "        \"eng\"\n",
      "      ],\n",
      "      \"parent_id\": \"32fb1e9197ba45dfb46c93353b83bdfc\",\n",
      "      \"file_directory\": \"example_files\",\n",
      "      \"filename\": \"medium_blog.html\",\n",
      "      \"filetype\": \"text/html\"\n",
      "    }\n",
      "  },\n",
      "  {\n",
      "    \"type\": \"Title\",\n",
      "    \"element_id\": \"5d7aa9d6c09605721388940a8be4e8a7\",\n",
      "    \"text\": \"4. Review the final output\",\n",
      "    \"metadata\": {\n",
      "      \"category_depth\": 0,\n",
      "      \"last_modified\": \"2024-07-09T12:56:49\",\n",
      "      \"emphasized_text_contents\": [\n",
      "        \"4. Review the final output\"\n",
      "      ],\n",
      "      \"emphasized_text_tags\": [\n",
      "        \"strong\"\n",
      "      ],\n",
      "      \"page_number\": 1,\n",
      "      \"languages\": [\n",
      "        \"eng\"\n",
      "      ],\n",
      "      \"file_directory\": \"example_files\",\n",
      "      \"filename\": \"medium_blog.html\",\n",
      "      \"filetype\": \"text/html\"\n",
      "    }\n",
      "  },\n",
      "  {\n",
      "    \"type\": \"NarrativeText\",\n",
      "    \"element_id\": \"cbf37d617faf88459b58d776c24bb97a\",\n",
      "    \"text\": \"Once the command completes, you\\u2019ll find the structured outputs in your local file system. These files contain the extracted information from your unstructured data, ready for analysis or further processing.\",\n",
      "    \"metadata\": {\n",
      "      \"last_modified\": \"2024-07-09T12:56:49\",\n",
      "      \"page_number\": 1,\n",
      "      \"languages\": [\n",
      "        \"eng\"\n",
      "      ],\n",
      "      \"parent_id\": \"5d7aa9d6c09605721388940a8be4e8a7\",\n",
      "      \"file_directory\": \"example_files\",\n",
      "      \"filename\": \"medium_blog.html\",\n",
      "      \"filetype\": \"text/html\"\n",
      "    }\n",
      "  },\n",
      "  {\n",
      "    \"type\": \"NarrativeText\",\n",
      "    \"element_id\": \"a27e91f2e7efa5356d22c26d389bf50c\",\n",
      "    \"text\": \"Looking ahead, Unstructured is developing a downstream connector to write back to AWS S3. This feature will allow you to store the output directly onto S3, streamlining your data pipeline. If you need to store the outputs in an S3 bucket, you can now use the AWS S3 CLI to store the output in your S3 bucket.\",\n",
      "    \"metadata\": {\n",
      "      \"last_modified\": \"2024-07-09T12:56:49\",\n",
      "      \"link_texts\": [\n",
      "        \"AWS S3 CLI\"\n",
      "      ],\n",
      "      \"link_urls\": [\n",
      "        \"https://docs.aws.amazon.com/cli/latest/userguide/cli-services-s3-commands.html\"\n",
      "      ],\n",
      "      \"page_number\": 1,\n",
      "      \"languages\": [\n",
      "        \"eng\"\n",
      "      ],\n",
      "      \"parent_id\": \"5d7aa9d6c09605721388940a8be4e8a7\",\n",
      "      \"file_directory\": \"example_files\",\n",
      "      \"filename\": \"medium_blog.html\",\n",
      "      \"filetype\": \"text/html\"\n",
      "    }\n",
      "  },\n",
      "  {\n",
      "    \"type\": \"Title\",\n",
      "    \"element_id\": \"9ab02fc86a4904eaf9d82882d563e39e\",\n",
      "    \"text\": \"Join the Unstructured Community Group\",\n",
      "    \"metadata\": {\n",
      "      \"category_depth\": 0,\n",
      "      \"last_modified\": \"2024-07-09T12:56:49\",\n",
      "      \"page_number\": 1,\n",
      "      \"languages\": [\n",
      "        \"eng\"\n",
      "      ],\n",
      "      \"file_directory\": \"example_files\",\n",
      "      \"filename\": \"medium_blog.html\",\n",
      "      \"filetype\": \"text/html\"\n",
      "    }\n",
      "  },\n",
      "  {\n",
      "    \"type\": \"NarrativeText\",\n",
      "    \"element_id\": \"8679e9dfa588aa45188ff3e0b88b414e\",\n",
      "    \"text\": \"Ready to get started? Request your API key today and unlock the power of Unstructured API and Connectors. And join the Unstructured community group to connect with other users, ask questions, share your experiences, and get the latest updates. We can\\u2019t wait to see what you\\u2019ll build.\",\n",
      "    \"metadata\": {\n",
      "      \"last_modified\": \"2024-07-09T12:56:49\",\n",
      "      \"link_texts\": [\n",
      "        \"community group\"\n",
      "      ],\n",
      "      \"link_urls\": [\n",
      "        \"https://join.slack.com/t/unstructuredw-kbe4326/shared_invite/zt-1nlh1ot5d-dfY7zCRlhFboZrIWLA4Qgw\"\n",
      "      ],\n",
      "      \"page_number\": 1,\n",
      "      \"languages\": [\n",
      "        \"eng\"\n",
      "      ],\n",
      "      \"parent_id\": \"9ab02fc86a4904eaf9d82882d563e39e\",\n",
      "      \"file_directory\": \"example_files\",\n",
      "      \"filename\": \"medium_blog.html\",\n",
      "      \"filetype\": \"text/html\"\n",
      "    }\n",
      "  },\n",
      "  {\n",
      "    \"type\": \"NarrativeText\",\n",
      "    \"element_id\": \"2c74cdcbe4a9ea7cbbefda3eceb1934e\",\n",
      "    \"text\": \"Originally published at https://medium.com on July 21, 2023.\",\n",
      "    \"metadata\": {\n",
      "      \"last_modified\": \"2024-07-09T12:56:49\",\n",
      "      \"emphasized_text_contents\": [\n",
      "        \"Originally published at\",\n",
      "        \"https://medium.com\",\n",
      "        \"on July 21, 2023.\"\n",
      "      ],\n",
      "      \"emphasized_text_tags\": [\n",
      "        \"em\",\n",
      "        \"em\",\n",
      "        \"em\"\n",
      "      ],\n",
      "      \"link_texts\": [\n",
      "        null\n",
      "      ],\n",
      "      \"link_urls\": [\n",
      "        \"/@ronnyh/effortless-document-extraction-a-guide-to-using-unstructured-api-and-data-connectors-52cf4a9bcc3f\"\n",
      "      ],\n",
      "      \"page_number\": 1,\n",
      "      \"languages\": [\n",
      "        \"eng\"\n",
      "      ],\n",
      "      \"parent_id\": \"9ab02fc86a4904eaf9d82882d563e39e\",\n",
      "      \"file_directory\": \"example_files\",\n",
      "      \"filename\": \"medium_blog.html\",\n",
      "      \"filetype\": \"text/html\"\n",
      "    }\n",
      "  },\n",
      "  {\n",
      "    \"type\": \"Title\",\n",
      "    \"element_id\": \"b3782288b3dd220c397069a826fb0b4b\",\n",
      "    \"text\": \"NLP\",\n",
      "    \"metadata\": {\n",
      "      \"category_depth\": 0,\n",
      "      \"last_modified\": \"2024-07-09T12:56:49\",\n",
      "      \"link_texts\": [\n",
      "        null\n",
      "      ],\n",
      "      \"link_urls\": [\n",
      "        \"/tag/nlp?source=post_page-----6c2659eda4af---------------nlp-----------------\"\n",
      "      ],\n",
      "      \"page_number\": 1,\n",
      "      \"languages\": [\n",
      "        \"eng\"\n",
      "      ],\n",
      "      \"file_directory\": \"example_files\",\n",
      "      \"filename\": \"medium_blog.html\",\n",
      "      \"filetype\": \"text/html\"\n",
      "    }\n",
      "  },\n",
      "  {\n",
      "    \"type\": \"Title\",\n",
      "    \"element_id\": \"80f921dc9023261e3c814707c896863d\",\n",
      "    \"text\": \"Artificial Intelligence\",\n",
      "    \"metadata\": {\n",
      "      \"category_depth\": 0,\n",
      "      \"last_modified\": \"2024-07-09T12:56:49\",\n",
      "      \"link_texts\": [\n",
      "        null\n",
      "      ],\n",
      "      \"link_urls\": [\n",
      "        \"/tag/artificial-intelligence?source=post_page-----6c2659eda4af---------------artificial_intelligence-----------------\"\n",
      "      ],\n",
      "      \"page_number\": 1,\n",
      "      \"languages\": [\n",
      "        \"eng\"\n",
      "      ],\n",
      "      \"file_directory\": \"example_files\",\n",
      "      \"filename\": \"medium_blog.html\",\n",
      "      \"filetype\": \"text/html\"\n",
      "    }\n",
      "  },\n",
      "  {\n",
      "    \"type\": \"Title\",\n",
      "    \"element_id\": \"0340bfb383fca6f23f7323d7eba231cf\",\n",
      "    \"text\": \"Large Language Models\",\n",
      "    \"metadata\": {\n",
      "      \"category_depth\": 0,\n",
      "      \"last_modified\": \"2024-07-09T12:56:49\",\n",
      "      \"link_texts\": [\n",
      "        null\n",
      "      ],\n",
      "      \"link_urls\": [\n",
      "        \"/tag/large-language-models?source=post_page-----6c2659eda4af---------------large_language_models-----------------\"\n",
      "      ],\n",
      "      \"page_number\": 1,\n",
      "      \"languages\": [\n",
      "        \"eng\"\n",
      "      ],\n",
      "      \"file_directory\": \"example_files\",\n",
      "      \"filename\": \"medium_blog.html\",\n",
      "      \"filetype\": \"text/html\"\n",
      "    }\n",
      "  },\n",
      "  {\n",
      "    \"type\": \"Title\",\n",
      "    \"element_id\": \"116928e2b13edac00372a48fd529dd94\",\n",
      "    \"text\": \"Data Engineering\",\n",
      "    \"metadata\": {\n",
      "      \"category_depth\": 0,\n",
      "      \"last_modified\": \"2024-07-09T12:56:49\",\n",
      "      \"link_texts\": [\n",
      "        null\n",
      "      ],\n",
      "      \"link_urls\": [\n",
      "        \"/tag/data-engineering?source=post_page-----6c2659eda4af---------------data_engineering-----------------\"\n",
      "      ],\n",
      "      \"page_number\": 1,\n",
      "      \"languages\": [\n",
      "        \"eng\"\n",
      "      ],\n",
      "      \"file_directory\": \"example_files\",\n",
      "      \"filename\": \"medium_blog.html\",\n",
      "      \"filetype\": \"text/html\"\n",
      "    }\n",
      "  },\n",
      "  {\n",
      "    \"type\": \"Title\",\n",
      "    \"element_id\": \"9316cd4d881e21d7494cada328686b37\",\n",
      "    \"text\": \"Machine Learning\",\n",
      "    \"metadata\": {\n",
      "      \"category_depth\": 0,\n",
      "      \"last_modified\": \"2024-07-09T12:56:49\",\n",
      "      \"link_texts\": [\n",
      "        null\n",
      "      ],\n",
      "      \"link_urls\": [\n",
      "        \"/tag/machine-learning?source=post_page-----6c2659eda4af---------------machine_learning-----------------\"\n",
      "      ],\n",
      "      \"page_number\": 1,\n",
      "      \"languages\": [\n",
      "        \"eng\"\n",
      "      ],\n",
      "      \"file_directory\": \"example_files\",\n",
      "      \"filename\": \"medium_blog.html\",\n",
      "      \"filetype\": \"text/html\"\n",
      "    }\n",
      "  },\n",
      "  {\n",
      "    \"type\": \"UncategorizedText\",\n",
      "    \"element_id\": \"d8156bae0c4243d3742fc4e9774d8ace\",\n",
      "    \"text\": \"--\",\n",
      "    \"metadata\": {\n",
      "      \"last_modified\": \"2024-07-09T12:56:49\",\n",
      "      \"emphasized_text_contents\": [\n",
      "        \"--\",\n",
      "        \"--\"\n",
      "      ],\n",
      "      \"emphasized_text_tags\": [\n",
      "        \"span\",\n",
      "        \"span\"\n",
      "      ],\n",
      "      \"page_number\": 1,\n",
      "      \"languages\": [\n",
      "        \"eng\"\n",
      "      ],\n",
      "      \"parent_id\": \"9316cd4d881e21d7494cada328686b37\",\n",
      "      \"file_directory\": \"example_files\",\n",
      "      \"filename\": \"medium_blog.html\",\n",
      "      \"filetype\": \"text/html\"\n",
      "    }\n",
      "  },\n",
      "  {\n",
      "    \"type\": \"UncategorizedText\",\n",
      "    \"element_id\": \"d8156bae0c4243d3742fc4e9774d8ace\",\n",
      "    \"text\": \"--\",\n",
      "    \"metadata\": {\n",
      "      \"last_modified\": \"2024-07-09T12:56:49\",\n",
      "      \"emphasized_text_contents\": [\n",
      "        \"--\",\n",
      "        \"--\"\n",
      "      ],\n",
      "      \"emphasized_text_tags\": [\n",
      "        \"span\",\n",
      "        \"span\"\n",
      "      ],\n",
      "      \"page_number\": 1,\n",
      "      \"languages\": [\n",
      "        \"eng\"\n",
      "      ],\n",
      "      \"parent_id\": \"9316cd4d881e21d7494cada328686b37\",\n",
      "      \"file_directory\": \"example_files\",\n",
      "      \"filename\": \"medium_blog.html\",\n",
      "      \"filetype\": \"text/html\"\n",
      "    }\n",
      "  },\n",
      "  {\n",
      "    \"type\": \"Title\",\n",
      "    \"element_id\": \"641d1ef657bdfd9fa2064ab5ae3f0e44\",\n",
      "    \"text\": \"Follow\",\n",
      "    \"metadata\": {\n",
      "      \"category_depth\": 0,\n",
      "      \"last_modified\": \"2024-07-09T12:56:49\",\n",
      "      \"emphasized_text_contents\": [\n",
      "        \"Follow\"\n",
      "      ],\n",
      "      \"emphasized_text_tags\": [\n",
      "        \"span\"\n",
      "      ],\n",
      "      \"page_number\": 1,\n",
      "      \"languages\": [\n",
      "        \"eng\"\n",
      "      ],\n",
      "      \"file_directory\": \"example_files\",\n",
      "      \"filename\": \"medium_blog.html\",\n",
      "      \"filetype\": \"text/html\"\n",
      "    }\n",
      "  },\n",
      "  {\n",
      "    \"type\": \"Title\",\n",
      "    \"element_id\": \"7ff230083de61ec3c711f918ff2051bb\",\n",
      "    \"text\": \"Written by Unstructured\",\n",
      "    \"metadata\": {\n",
      "      \"category_depth\": 0,\n",
      "      \"last_modified\": \"2024-07-09T12:56:49\",\n",
      "      \"emphasized_text_contents\": [\n",
      "        \"Written by Unstructured\"\n",
      "      ],\n",
      "      \"emphasized_text_tags\": [\n",
      "        \"span\"\n",
      "      ],\n",
      "      \"link_texts\": [\n",
      "        null\n",
      "      ],\n",
      "      \"link_urls\": [\n",
      "        \"/@unstructured-io?source=post_page-----6c2659eda4af--------------------------------\"\n",
      "      ],\n",
      "      \"page_number\": 1,\n",
      "      \"languages\": [\n",
      "        \"eng\"\n",
      "      ],\n",
      "      \"file_directory\": \"example_files\",\n",
      "      \"filename\": \"medium_blog.html\",\n",
      "      \"filetype\": \"text/html\"\n",
      "    }\n",
      "  },\n",
      "  {\n",
      "    \"type\": \"Title\",\n",
      "    \"element_id\": \"3f32efaa872dc96afdeba191dff2ea71\",\n",
      "    \"text\": \"376 Followers\",\n",
      "    \"metadata\": {\n",
      "      \"category_depth\": 0,\n",
      "      \"last_modified\": \"2024-07-09T12:56:49\",\n",
      "      \"emphasized_text_contents\": [\n",
      "        \"376 Followers\"\n",
      "      ],\n",
      "      \"emphasized_text_tags\": [\n",
      "        \"span\"\n",
      "      ],\n",
      "      \"link_texts\": [\n",
      "        \"376 Followers\"\n",
      "      ],\n",
      "      \"link_urls\": [\n",
      "        \"/@unstructured-io/followers?source=post_page-----6c2659eda4af--------------------------------\"\n",
      "      ],\n",
      "      \"page_number\": 1,\n",
      "      \"languages\": [\n",
      "        \"eng\"\n",
      "      ],\n",
      "      \"file_directory\": \"example_files\",\n",
      "      \"filename\": \"medium_blog.html\",\n",
      "      \"filetype\": \"text/html\"\n",
      "    }\n",
      "  },\n",
      "  {\n",
      "    \"type\": \"Title\",\n",
      "    \"element_id\": \"8b5a7532094644a82589be35a708f87d\",\n",
      "    \"text\": \"Editor for\",\n",
      "    \"metadata\": {\n",
      "      \"category_depth\": 0,\n",
      "      \"last_modified\": \"2024-07-09T12:56:49\",\n",
      "      \"emphasized_text_contents\": [\n",
      "        \"Editor for\"\n",
      "      ],\n",
      "      \"emphasized_text_tags\": [\n",
      "        \"span\"\n",
      "      ],\n",
      "      \"page_number\": 1,\n",
      "      \"languages\": [\n",
      "        \"eng\"\n",
      "      ],\n",
      "      \"file_directory\": \"example_files\",\n",
      "      \"filename\": \"medium_blog.html\",\n",
      "      \"filetype\": \"text/html\"\n",
      "    }\n",
      "  },\n",
      "  {\n",
      "    \"type\": \"Title\",\n",
      "    \"element_id\": \"e04e06ef1dd5664b00daf22e56d221f9\",\n",
      "    \"text\": \"Unstructured\",\n",
      "    \"metadata\": {\n",
      "      \"category_depth\": 0,\n",
      "      \"last_modified\": \"2024-07-09T12:56:49\",\n",
      "      \"link_texts\": [\n",
      "        null\n",
      "      ],\n",
      "      \"link_urls\": [\n",
      "        \"https://medium.com/unstructured-io?source=post_page-----6c2659eda4af--------------------------------\"\n",
      "      ],\n",
      "      \"page_number\": 1,\n",
      "      \"languages\": [\n",
      "        \"eng\"\n",
      "      ],\n",
      "      \"file_directory\": \"example_files\",\n",
      "      \"filename\": \"medium_blog.html\",\n",
      "      \"filetype\": \"text/html\"\n",
      "    }\n",
      "  },\n",
      "  {\n",
      "    \"type\": \"Title\",\n",
      "    \"element_id\": \"0196229783cb8d6daa353b447f4f7b99\",\n",
      "    \"text\": \"ETL for LLMs\",\n",
      "    \"metadata\": {\n",
      "      \"category_depth\": 0,\n",
      "      \"last_modified\": \"2024-07-09T12:56:49\",\n",
      "      \"emphasized_text_contents\": [\n",
      "        \"ETL for LLMs\"\n",
      "      ],\n",
      "      \"emphasized_text_tags\": [\n",
      "        \"span\"\n",
      "      ],\n",
      "      \"page_number\": 1,\n",
      "      \"languages\": [\n",
      "        \"eng\"\n",
      "      ],\n",
      "      \"file_directory\": \"example_files\",\n",
      "      \"filename\": \"medium_blog.html\",\n",
      "      \"filetype\": \"text/html\"\n",
      "    }\n",
      "  },\n",
      "  {\n",
      "    \"type\": \"Title\",\n",
      "    \"element_id\": \"641d1ef657bdfd9fa2064ab5ae3f0e44\",\n",
      "    \"text\": \"Follow\",\n",
      "    \"metadata\": {\n",
      "      \"category_depth\": 0,\n",
      "      \"last_modified\": \"2024-07-09T12:56:49\",\n",
      "      \"emphasized_text_contents\": [\n",
      "        \"Follow\"\n",
      "      ],\n",
      "      \"emphasized_text_tags\": [\n",
      "        \"span\"\n",
      "      ],\n",
      "      \"page_number\": 1,\n",
      "      \"languages\": [\n",
      "        \"eng\"\n",
      "      ],\n",
      "      \"file_directory\": \"example_files\",\n",
      "      \"filename\": \"medium_blog.html\",\n",
      "      \"filetype\": \"text/html\"\n",
      "    }\n",
      "  },\n",
      "  {\n",
      "    \"type\": \"Title\",\n",
      "    \"element_id\": \"b79cac926e0b2e347e72cc91d5174037\",\n",
      "    \"text\": \"Help\",\n",
      "    \"metadata\": {\n",
      "      \"category_depth\": 0,\n",
      "      \"last_modified\": \"2024-07-09T12:56:49\",\n",
      "      \"link_texts\": [\n",
      "        null\n",
      "      ],\n",
      "      \"link_urls\": [\n",
      "        \"https://help.medium.com/hc/en-us?source=post_page-----6c2659eda4af--------------------------------\"\n",
      "      ],\n",
      "      \"page_number\": 1,\n",
      "      \"languages\": [\n",
      "        \"eng\"\n",
      "      ],\n",
      "      \"file_directory\": \"example_files\",\n",
      "      \"filename\": \"medium_blog.html\",\n",
      "      \"filetype\": \"text/html\"\n",
      "    }\n",
      "  },\n",
      "  {\n",
      "    \"type\": \"Title\",\n",
      "    \"element_id\": \"920e413c7d411b61ef3e8c63b1cb6ad0\",\n",
      "    \"text\": \"Status\",\n",
      "    \"metadata\": {\n",
      "      \"category_depth\": 0,\n",
      "      \"last_modified\": \"2024-07-09T12:56:49\",\n",
      "      \"link_texts\": [\n",
      "        null\n",
      "      ],\n",
      "      \"link_urls\": [\n",
      "        \"https://medium.statuspage.io/?source=post_page-----6c2659eda4af--------------------------------\"\n",
      "      ],\n",
      "      \"page_number\": 1,\n",
      "      \"languages\": [\n",
      "        \"eng\"\n",
      "      ],\n",
      "      \"file_directory\": \"example_files\",\n",
      "      \"filename\": \"medium_blog.html\",\n",
      "      \"filetype\": \"text/html\"\n",
      "    }\n",
      "  },\n",
      "  {\n",
      "    \"type\": \"Title\",\n",
      "    \"element_id\": \"4efca0d10c5feb8e9b35eb1d994f2905\",\n",
      "    \"text\": \"About\",\n",
      "    \"metadata\": {\n",
      "      \"category_depth\": 0,\n",
      "      \"last_modified\": \"2024-07-09T12:56:49\",\n",
      "      \"link_texts\": [\n",
      "        null\n",
      "      ],\n",
      "      \"link_urls\": [\n",
      "        \"/about?autoplay=1&source=post_page-----6c2659eda4af--------------------------------\"\n",
      "      ],\n",
      "      \"page_number\": 1,\n",
      "      \"languages\": [\n",
      "        \"eng\"\n",
      "      ],\n",
      "      \"file_directory\": \"example_files\",\n",
      "      \"filename\": \"medium_blog.html\",\n",
      "      \"filetype\": \"text/html\"\n",
      "    }\n",
      "  },\n",
      "  {\n",
      "    \"type\": \"Title\",\n",
      "    \"element_id\": \"7e658675b5ca75b3802ff34b548abe66\",\n",
      "    \"text\": \"Careers\",\n",
      "    \"metadata\": {\n",
      "      \"category_depth\": 0,\n",
      "      \"last_modified\": \"2024-07-09T12:56:49\",\n",
      "      \"link_texts\": [\n",
      "        null\n",
      "      ],\n",
      "      \"link_urls\": [\n",
      "        \"/jobs-at-medium/work-at-medium-959d1a85284e?source=post_page-----6c2659eda4af--------------------------------\"\n",
      "      ],\n",
      "      \"page_number\": 1,\n",
      "      \"languages\": [\n",
      "        \"eng\"\n",
      "      ],\n",
      "      \"file_directory\": \"example_files\",\n",
      "      \"filename\": \"medium_blog.html\",\n",
      "      \"filetype\": \"text/html\"\n",
      "    }\n",
      "  },\n",
      "  {\n",
      "    \"type\": \"Title\",\n",
      "    \"element_id\": \"8c6bc099534a0251b576f6b88bd2db12\",\n",
      "    \"text\": \"Blog\",\n",
      "    \"metadata\": {\n",
      "      \"category_depth\": 0,\n",
      "      \"last_modified\": \"2024-07-09T12:56:49\",\n",
      "      \"link_texts\": [\n",
      "        null\n",
      "      ],\n",
      "      \"link_urls\": [\n",
      "        \"https://blog.medium.com/?source=post_page-----6c2659eda4af--------------------------------\"\n",
      "      ],\n",
      "      \"page_number\": 1,\n",
      "      \"languages\": [\n",
      "        \"eng\"\n",
      "      ],\n",
      "      \"file_directory\": \"example_files\",\n",
      "      \"filename\": \"medium_blog.html\",\n",
      "      \"filetype\": \"text/html\"\n",
      "    }\n",
      "  },\n",
      "  {\n",
      "    \"type\": \"Title\",\n",
      "    \"element_id\": \"54a57c3147c49f33de5898b87084ad2b\",\n",
      "    \"text\": \"Privacy\",\n",
      "    \"metadata\": {\n",
      "      \"category_depth\": 0,\n",
      "      \"last_modified\": \"2024-07-09T12:56:49\",\n",
      "      \"link_texts\": [\n",
      "        null\n",
      "      ],\n",
      "      \"link_urls\": [\n",
      "        \"https://policy.medium.com/medium-privacy-policy-f03bf92035c9?source=post_page-----6c2659eda4af--------------------------------\"\n",
      "      ],\n",
      "      \"page_number\": 1,\n",
      "      \"languages\": [\n",
      "        \"eng\"\n",
      "      ],\n",
      "      \"file_directory\": \"example_files\",\n",
      "      \"filename\": \"medium_blog.html\",\n",
      "      \"filetype\": \"text/html\"\n",
      "    }\n",
      "  },\n",
      "  {\n",
      "    \"type\": \"Title\",\n",
      "    \"element_id\": \"ede5489964834a514b61c7a4a8370be2\",\n",
      "    \"text\": \"Terms\",\n",
      "    \"metadata\": {\n",
      "      \"category_depth\": 0,\n",
      "      \"last_modified\": \"2024-07-09T12:56:49\",\n",
      "      \"link_texts\": [\n",
      "        null\n",
      "      ],\n",
      "      \"link_urls\": [\n",
      "        \"https://policy.medium.com/medium-terms-of-service-9db0094a1e0f?source=post_page-----6c2659eda4af--------------------------------\"\n",
      "      ],\n",
      "      \"page_number\": 1,\n",
      "      \"languages\": [\n",
      "        \"eng\"\n",
      "      ],\n",
      "      \"file_directory\": \"example_files\",\n",
      "      \"filename\": \"medium_blog.html\",\n",
      "      \"filetype\": \"text/html\"\n",
      "    }\n",
      "  },\n",
      "  {\n",
      "    \"type\": \"NarrativeText\",\n",
      "    \"element_id\": \"71e02f22899aa9112e05dfc7a3cd1e83\",\n",
      "    \"text\": \"Text to speech\",\n",
      "    \"metadata\": {\n",
      "      \"last_modified\": \"2024-07-09T12:56:49\",\n",
      "      \"link_texts\": [\n",
      "        null\n",
      "      ],\n",
      "      \"link_urls\": [\n",
      "        \"https://speechify.com/medium?source=post_page-----6c2659eda4af--------------------------------\"\n",
      "      ],\n",
      "      \"page_number\": 1,\n",
      "      \"languages\": [\n",
      "        \"eng\"\n",
      "      ],\n",
      "      \"parent_id\": \"ede5489964834a514b61c7a4a8370be2\",\n",
      "      \"file_directory\": \"example_files\",\n",
      "      \"filename\": \"medium_blog.html\",\n",
      "      \"filetype\": \"text/html\"\n",
      "    }\n",
      "  },\n",
      "  {\n",
      "    \"type\": \"Title\",\n",
      "    \"element_id\": \"1e1a1c078af2887a56987f6da6ffc8f9\",\n",
      "    \"text\": \"Teams\",\n",
      "    \"metadata\": {\n",
      "      \"category_depth\": 0,\n",
      "      \"last_modified\": \"2024-07-09T12:56:49\",\n",
      "      \"link_texts\": [\n",
      "        null\n",
      "      ],\n",
      "      \"link_urls\": [\n",
      "        \"/business?source=post_page-----6c2659eda4af--------------------------------\"\n",
      "      ],\n",
      "      \"page_number\": 1,\n",
      "      \"languages\": [\n",
      "        \"eng\"\n",
      "      ],\n",
      "      \"file_directory\": \"example_files\",\n",
      "      \"filename\": \"medium_blog.html\",\n",
      "      \"filetype\": \"text/html\"\n",
      "    }\n",
      "  }\n",
      "]\n"
     ]
    }
   ],
   "source": [
    "element_dict = [el.to_dict() for el in elements]\n",
    "example_output = json.dumps(element_dict[:], indent=2)\n",
    "print(example_output)"
   ]
  },
  {
   "cell_type": "code",
   "execution_count": 8,
   "id": "41aa4434-7ff6-45c5-bf7d-ef870358e4bb",
   "metadata": {},
   "outputs": [
    {
     "data": {
      "application/json": [
       {
        "element_id": "7100b12091b2d2bea5e2d50c46ba4438",
        "metadata": {
         "category_depth": 0,
         "file_directory": "example_files",
         "filename": "medium_blog.html",
         "filetype": "text/html",
         "languages": [
          "eng"
         ],
         "last_modified": "2024-07-09T12:56:49",
         "link_texts": [
          "Open in app"
         ],
         "link_urls": [
          "https://rsci.app.link/?%24canonical_url=https%3A%2F%2Fmedium.com%2Fp%2F6c2659eda4af&%7Efeature=LoOpenInAppButton&%7Echannel=ShowPostUnderCollection&source=---two_column_layout_nav----------------------------------"
         ],
         "page_number": 1
        },
        "text": "Open in app",
        "type": "Title"
       },
       {
        "element_id": "5e2b8e96503d722e7ebf61b9bc3e9988",
        "metadata": {
         "category_depth": 0,
         "emphasized_text_contents": [
          "Sign up"
         ],
         "emphasized_text_tags": [
          "span"
         ],
         "file_directory": "example_files",
         "filename": "medium_blog.html",
         "filetype": "text/html",
         "languages": [
          "eng"
         ],
         "last_modified": "2024-07-09T12:56:49",
         "page_number": 1
        },
        "text": "Sign up",
        "type": "Title"
       },
       {
        "element_id": "bfd402b2f6f3812529b55596136d3a11",
        "metadata": {
         "category_depth": 0,
         "emphasized_text_contents": [
          "Sign in"
         ],
         "emphasized_text_tags": [
          "span"
         ],
         "file_directory": "example_files",
         "filename": "medium_blog.html",
         "filetype": "text/html",
         "languages": [
          "eng"
         ],
         "last_modified": "2024-07-09T12:56:49",
         "link_texts": [
          "Sign in"
         ],
         "link_urls": [
          "/m/signin?operation=login&redirect=https%3A%2F%2Fmedium.com%2Funstructured-io%2Feffortless-document-extraction-a-guide-to-using-unstructured-api-and-data-connectors-6c2659eda4af&source=post_page---two_column_layout_nav-----------------------global_nav-----------"
         ],
         "page_number": 1
        },
        "text": "Sign in",
        "type": "Title"
       },
       {
        "element_id": "3f00927a719345edd4a8316599d3b328",
        "metadata": {
         "category_depth": 0,
         "emphasized_text_contents": [
          "Write"
         ],
         "emphasized_text_tags": [
          "span"
         ],
         "file_directory": "example_files",
         "filename": "medium_blog.html",
         "filetype": "text/html",
         "languages": [
          "eng"
         ],
         "last_modified": "2024-07-09T12:56:49",
         "link_texts": [
          null
         ],
         "link_urls": [
          "/m/signin?operation=register&redirect=https%3A%2F%2Fmedium.com%2Fnew-story&source=---two_column_layout_nav-----------------------new_post_topnav-----------"
         ],
         "page_number": 1
        },
        "text": "Write",
        "type": "Title"
       },
       {
        "element_id": "5e2b8e96503d722e7ebf61b9bc3e9988",
        "metadata": {
         "category_depth": 0,
         "emphasized_text_contents": [
          "Sign up"
         ],
         "emphasized_text_tags": [
          "span"
         ],
         "file_directory": "example_files",
         "filename": "medium_blog.html",
         "filetype": "text/html",
         "languages": [
          "eng"
         ],
         "last_modified": "2024-07-09T12:56:49",
         "page_number": 1
        },
        "text": "Sign up",
        "type": "Title"
       },
       {
        "element_id": "bfd402b2f6f3812529b55596136d3a11",
        "metadata": {
         "category_depth": 0,
         "emphasized_text_contents": [
          "Sign in"
         ],
         "emphasized_text_tags": [
          "span"
         ],
         "file_directory": "example_files",
         "filename": "medium_blog.html",
         "filetype": "text/html",
         "languages": [
          "eng"
         ],
         "last_modified": "2024-07-09T12:56:49",
         "link_texts": [
          "Sign in"
         ],
         "link_urls": [
          "/m/signin?operation=login&redirect=https%3A%2F%2Fmedium.com%2Funstructured-io%2Feffortless-document-extraction-a-guide-to-using-unstructured-api-and-data-connectors-6c2659eda4af&source=post_page---two_column_layout_nav-----------------------global_nav-----------"
         ],
         "page_number": 1
        },
        "text": "Sign in",
        "type": "Title"
       },
       {
        "element_id": "e39d96a8cdd862d24797a6c70bbf1f4a",
        "metadata": {
         "category_depth": 0,
         "file_directory": "example_files",
         "filename": "medium_blog.html",
         "filetype": "text/html",
         "languages": [
          "eng"
         ],
         "last_modified": "2024-07-09T12:56:49",
         "page_number": 1
        },
        "text": "Effortless Document Extraction: A Guide to Using Unstructured API and Data Connectors",
        "type": "Title"
       },
       {
        "element_id": "bb56ce4185858827e8009383eb805c27",
        "metadata": {
         "category_depth": 0,
         "emphasized_text_contents": [
          "Unstructured·Follow",
          "·",
          "·",
          "Follow"
         ],
         "emphasized_text_tags": [
          "span",
          "span",
          "span",
          "span"
         ],
         "file_directory": "example_files",
         "filename": "medium_blog.html",
         "filetype": "text/html",
         "languages": [
          "eng"
         ],
         "last_modified": "2024-07-09T12:56:49",
         "link_texts": [
          "Unstructured",
          "Follow"
         ],
         "link_urls": [
          "/@unstructured-io?source=post_page-----6c2659eda4af--------------------------------",
          "/m/signin?actionUrl=https%3A%2F%2Fmedium.com%2F_%2Fsubscribe%2Fuser%2Fef887e1f3620&operation=register&redirect=https%3A%2F%2Fmedium.com%2Funstructured-io%2Feffortless-document-extraction-a-guide-to-using-unstructured-api-and-data-connectors-6c2659eda4af&user=Unstructured&userId=ef887e1f3620&source=post_page-ef887e1f3620----6c2659eda4af---------------------post_header-----------"
         ],
         "page_number": 1
        },
        "text": "Unstructured·Follow",
        "type": "Title"
       },
       {
        "element_id": "73faa33da78673b06dea24713695e0e6",
        "metadata": {
         "emphasized_text_contents": [
          "Published inUnstructured·4 min read·Jul 21, 2023",
          "Published in",
          "·",
          "·",
          "4 min read·Jul 21, 2023",
          "4 min read",
          "·",
          "·",
          "Jul 21, 2023"
         ],
         "emphasized_text_tags": [
          "span",
          "span",
          "span",
          "span",
          "span",
          "span",
          "span",
          "span",
          "span"
         ],
         "file_directory": "example_files",
         "filename": "medium_blog.html",
         "filetype": "text/html",
         "languages": [
          "eng"
         ],
         "last_modified": "2024-07-09T12:56:49",
         "link_texts": [
          null
         ],
         "link_urls": [
          "https://medium.com/unstructured-io?source=post_page-----6c2659eda4af--------------------------------"
         ],
         "page_number": 1,
         "parent_id": "bb56ce4185858827e8009383eb805c27"
        },
        "text": "Published inUnstructured·4 min read·Jul 21, 2023",
        "type": "NarrativeText"
       },
       {
        "element_id": "d8156bae0c4243d3742fc4e9774d8ace",
        "metadata": {
         "emphasized_text_contents": [
          "--"
         ],
         "emphasized_text_tags": [
          "span"
         ],
         "file_directory": "example_files",
         "filename": "medium_blog.html",
         "filetype": "text/html",
         "languages": [
          "eng"
         ],
         "last_modified": "2024-07-09T12:56:49",
         "page_number": 1,
         "parent_id": "bb56ce4185858827e8009383eb805c27"
        },
        "text": "--",
        "type": "UncategorizedText"
       },
       {
        "element_id": "225d29f6201e1a635684a6dc0e7a65d1",
        "metadata": {
         "category_depth": 0,
         "file_directory": "example_files",
         "filename": "medium_blog.html",
         "filetype": "text/html",
         "languages": [
          "eng"
         ],
         "last_modified": "2024-07-09T12:56:49",
         "page_number": 1
        },
        "text": "Listen",
        "type": "Title"
       },
       {
        "element_id": "29887a5ff9846ccc23327565a07e17fa",
        "metadata": {
         "category_depth": 0,
         "file_directory": "example_files",
         "filename": "medium_blog.html",
         "filetype": "text/html",
         "languages": [
          "eng"
         ],
         "last_modified": "2024-07-09T12:56:49",
         "page_number": 1
        },
        "text": "Share",
        "type": "Title"
       },
       {
        "element_id": "2bc60d779d5ea8114272b3c498f34643",
        "metadata": {
         "file_directory": "example_files",
         "filename": "medium_blog.html",
         "filetype": "text/html",
         "languages": [
          "eng"
         ],
         "last_modified": "2024-07-09T12:56:49",
         "page_number": 1,
         "parent_id": "29887a5ff9846ccc23327565a07e17fa"
        },
        "text": "In the vast digital universe, data is the lifeblood that drives decision-making and innovation. But not all data is created equal. Unstructured data in images and documents often hold a wealth of information that can be challenging to extract and analyze.",
        "type": "NarrativeText"
       },
       {
        "element_id": "03ceadc8956df0cbeb81d1b103e75ba0",
        "metadata": {
         "file_directory": "example_files",
         "filename": "medium_blog.html",
         "filetype": "text/html",
         "languages": [
          "eng"
         ],
         "last_modified": "2024-07-09T12:56:49",
         "link_texts": [
          "Unstructured.io"
         ],
         "link_urls": [
          "https://www.unstructured.io/"
         ],
         "page_number": 1,
         "parent_id": "29887a5ff9846ccc23327565a07e17fa"
        },
        "text": "Enter Unstructured.io, a powerful tool to extract and efficiently transform structured data. With sixteen and counting pre-built connectors, the API can easily integrate with various data sources, including AWS S3, GitHub, Google Cloud Storage, and more.",
        "type": "NarrativeText"
       },
       {
        "element_id": "c08851ba52bd7d9d68c0398c1634a1fb",
        "metadata": {
         "file_directory": "example_files",
         "filename": "medium_blog.html",
         "filetype": "text/html",
         "languages": [
          "eng"
         ],
         "last_modified": "2024-07-09T12:56:49",
         "page_number": 1,
         "parent_id": "29887a5ff9846ccc23327565a07e17fa"
        },
        "text": "In this guide, we’ll cover the advantages of using the Unstructured API and Connector module, walk you through a step-by-step process of using it with the S3 Connector as an example, and show you how to be a part of the Unstructured community.",
        "type": "NarrativeText"
       },
       {
        "element_id": "bc01153fed6d9e9a31e458ab594ff5e9",
        "metadata": {
         "category_depth": 0,
         "file_directory": "example_files",
         "filename": "medium_blog.html",
         "filetype": "text/html",
         "languages": [
          "eng"
         ],
         "last_modified": "2024-07-09T12:56:49",
         "page_number": 1
        },
        "text": "Why Use Unstructured API?",
        "type": "Title"
       },
       {
        "element_id": "c26f67b50adaa71a063d82c094b66ca2",
        "metadata": {
         "file_directory": "example_files",
         "filename": "medium_blog.html",
         "filetype": "text/html",
         "languages": [
          "eng"
         ],
         "last_modified": "2024-07-09T12:56:49",
         "link_texts": [
          "open-source library",
          "Unstructured API"
         ],
         "link_urls": [
          "https://github.com/Unstructured-IO/unstructured",
          "https://github.com/Unstructured-IO/unstructured-api"
         ],
         "page_number": 1,
         "parent_id": "bc01153fed6d9e9a31e458ab594ff5e9"
        },
        "text": "Use cases for the Unstructured open-source library and API are vast; the possibilities are endless, from analyzing customer feedback in real time to extracting insights from large document repositories. While the Unstructured open-source library offers robust functionality, using the Unstructured API brings several compelling advantages:",
        "type": "NarrativeText"
       },
       {
        "element_id": "b5794d2c4b76499514e220e448470c1d",
        "metadata": {
         "category_depth": 1,
         "emphasized_text_contents": [
          "Ease of Use"
         ],
         "emphasized_text_tags": [
          "strong"
         ],
         "file_directory": "example_files",
         "filename": "medium_blog.html",
         "filetype": "text/html",
         "languages": [
          "eng"
         ],
         "last_modified": "2024-07-09T12:56:49",
         "page_number": 1,
         "parent_id": "bc01153fed6d9e9a31e458ab594ff5e9"
        },
        "text": "Ease of Use: Managing dependencies is unnecessary with the API. All you need is an API key, and you’re ready to go.",
        "type": "ListItem"
       },
       {
        "element_id": "961663f85dc0348b32349ff6ab25d364",
        "metadata": {
         "category_depth": 1,
         "emphasized_text_contents": [
          "Scalability"
         ],
         "emphasized_text_tags": [
          "strong"
         ],
         "file_directory": "example_files",
         "filename": "medium_blog.html",
         "filetype": "text/html",
         "languages": [
          "eng"
         ],
         "last_modified": "2024-07-09T12:56:49",
         "page_number": 1,
         "parent_id": "bc01153fed6d9e9a31e458ab594ff5e9"
        },
        "text": "Scalability: Unstructured API can handle large volumes of data, making it perfect for enterprise-scale projects.",
        "type": "ListItem"
       },
       {
        "element_id": "f5829696756f14ffa55944be4d002244",
        "metadata": {
         "category_depth": 1,
         "emphasized_text_contents": [
          "Continuous Updates"
         ],
         "emphasized_text_tags": [
          "strong"
         ],
         "file_directory": "example_files",
         "filename": "medium_blog.html",
         "filetype": "text/html",
         "languages": [
          "eng"
         ],
         "last_modified": "2024-07-09T12:56:49",
         "page_number": 1,
         "parent_id": "bc01153fed6d9e9a31e458ab594ff5e9"
        },
        "text": "Continuous Updates: As a hosted service, the API benefits from constant updates and improvements without requiring manual updates.",
        "type": "ListItem"
       },
       {
        "element_id": "712ffc116da5456253943369bdc612a8",
        "metadata": {
         "file_directory": "example_files",
         "filename": "medium_blog.html",
         "filetype": "text/html",
         "languages": [
          "eng"
         ],
         "last_modified": "2024-07-09T12:56:49",
         "page_number": 1,
         "parent_id": "bc01153fed6d9e9a31e458ab594ff5e9"
        },
        "text": "To show how easy it is, we’ll walk you through using Unstructured API with S3 Connector step-by-step.",
        "type": "NarrativeText"
       },
       {
        "element_id": "46269d4d8bf8baa1c1b89a03d38725e7",
        "metadata": {
         "category_depth": 0,
         "file_directory": "example_files",
         "filename": "medium_blog.html",
         "filetype": "text/html",
         "languages": [
          "eng"
         ],
         "last_modified": "2024-07-09T12:56:49",
         "page_number": 1
        },
        "text": "Guide to Using Unstructured API",
        "type": "Title"
       },
       {
        "element_id": "df9bf89acf8c6afac2090a3a43190e09",
        "metadata": {
         "file_directory": "example_files",
         "filename": "medium_blog.html",
         "filetype": "text/html",
         "languages": [
          "eng"
         ],
         "last_modified": "2024-07-09T12:56:49",
         "page_number": 1,
         "parent_id": "46269d4d8bf8baa1c1b89a03d38725e7"
        },
        "text": "Before we start, you will need the following:",
        "type": "NarrativeText"
       },
       {
        "element_id": "f0c38e026e0cabc466f5b35a33dea3db",
        "metadata": {
         "category_depth": 1,
         "file_directory": "example_files",
         "filename": "medium_blog.html",
         "filetype": "text/html",
         "languages": [
          "eng"
         ],
         "last_modified": "2024-07-09T12:56:49",
         "page_number": 1,
         "parent_id": "46269d4d8bf8baa1c1b89a03d38725e7"
        },
        "text": "An Unstructured API Key and unstructured-ingest library installed",
        "type": "ListItem"
       },
       {
        "element_id": "01af5644029c338539789f729935cef8",
        "metadata": {
         "category_depth": 1,
         "file_directory": "example_files",
         "filename": "medium_blog.html",
         "filetype": "text/html",
         "languages": [
          "eng"
         ],
         "last_modified": "2024-07-09T12:56:49",
         "page_number": 1,
         "parent_id": "46269d4d8bf8baa1c1b89a03d38725e7"
        },
        "text": "An AWS S3 bucket with documents you want to process",
        "type": "ListItem"
       },
       {
        "element_id": "88b59938f678fdce32f372767d7ab7cd",
        "metadata": {
         "category_depth": 1,
         "file_directory": "example_files",
         "filename": "medium_blog.html",
         "filetype": "text/html",
         "languages": [
          "eng"
         ],
         "last_modified": "2024-07-09T12:56:49",
         "page_number": 1,
         "parent_id": "46269d4d8bf8baa1c1b89a03d38725e7"
        },
        "text": "Basic knowledge of command-line operations",
        "type": "ListItem"
       },
       {
        "element_id": "fddb3001645a987a8ca0d5f035cdeb6f",
        "metadata": {
         "category_depth": 0,
         "file_directory": "example_files",
         "filename": "medium_blog.html",
         "filetype": "text/html",
         "languages": [
          "eng"
         ],
         "last_modified": "2024-07-09T12:56:49",
         "page_number": 1
        },
        "text": "Step-by-Step Process:",
        "type": "Title"
       },
       {
        "element_id": "8bcd1e9c3bf345a27b4dd1b98e8e2066",
        "metadata": {
         "category_depth": 1,
         "emphasized_text_contents": [
          "Get your Unstructured API Key"
         ],
         "emphasized_text_tags": [
          "strong"
         ],
         "file_directory": "example_files",
         "filename": "medium_blog.html",
         "filetype": "text/html",
         "languages": [
          "eng"
         ],
         "last_modified": "2024-07-09T12:56:49",
         "page_number": 1,
         "parent_id": "fddb3001645a987a8ca0d5f035cdeb6f"
        },
        "text": "Get your Unstructured API Key",
        "type": "ListItem"
       },
       {
        "element_id": "119f0d343f32c5f5e4b59f3e4b362eb7",
        "metadata": {
         "file_directory": "example_files",
         "filename": "medium_blog.html",
         "filetype": "text/html",
         "languages": [
          "eng"
         ],
         "last_modified": "2024-07-09T12:56:49",
         "link_texts": [
          "the request form"
         ],
         "link_urls": [
          "https://unstructured.io/#get-api-key"
         ],
         "page_number": 1,
         "parent_id": "fddb3001645a987a8ca0d5f035cdeb6f"
        },
        "text": "First, request an API Key by entering your `Organization Name` and `Email` on the request form. This key is your passport to the powerful features of the Unstructured API.",
        "type": "NarrativeText"
       },
       {
        "element_id": "3ee524ac1f6e08c6981e77d12a21ed49",
        "metadata": {
         "category_depth": 0,
         "emphasized_text_contents": [
          "2. Explore the Pre-Built Data Connectors"
         ],
         "emphasized_text_tags": [
          "strong"
         ],
         "file_directory": "example_files",
         "filename": "medium_blog.html",
         "filetype": "text/html",
         "languages": [
          "eng"
         ],
         "last_modified": "2024-07-09T12:56:49",
         "page_number": 1
        },
        "text": "2. Explore the Pre-Built Data Connectors",
        "type": "Title"
       },
       {
        "element_id": "948ba9f0406c08090295cbcc297e7572",
        "metadata": {
         "file_directory": "example_files",
         "filename": "medium_blog.html",
         "filetype": "text/html",
         "languages": [
          "eng"
         ],
         "last_modified": "2024-07-09T12:56:49",
         "link_texts": [
          "Connectors module"
         ],
         "link_urls": [
          "https://unstructured-io.github.io/unstructured/connectors.html"
         ],
         "page_number": 1,
         "parent_id": "3ee524ac1f6e08c6981e77d12a21ed49"
        },
        "text": "The ability to connect with various data sources is crucial in data processing. Unstructured’s Connectors module is designed to provide this flexibility, allowing you to seamlessly integrate your preprocessing pipeline with your preferred data storage platforms.",
        "type": "NarrativeText"
       },
       {
        "element_id": "6002d1bafd34126cb361550c3edbe4cf",
        "metadata": {
         "file_directory": "example_files",
         "filename": "medium_blog.html",
         "filetype": "text/html",
         "languages": [
          "eng"
         ],
         "last_modified": "2024-07-09T12:56:49",
         "page_number": 1,
         "parent_id": "3ee524ac1f6e08c6981e77d12a21ed49"
        },
        "text": "The Connector module enables you to batch-process all your documents and store structured outputs locally on your file system. This module also supports various connectors designed for a specific data storage platform.",
        "type": "NarrativeText"
       },
       {
        "element_id": "b5a97066241888ae643a4e5d9c948ee7",
        "metadata": {
         "file_directory": "example_files",
         "filename": "medium_blog.html",
         "filetype": "text/html",
         "languages": [
          "eng"
         ],
         "last_modified": "2024-07-09T12:56:49",
         "page_number": 1,
         "parent_id": "3ee524ac1f6e08c6981e77d12a21ed49"
        },
        "text": "Currently, the Unstructured API supports over a dozen pre-built connectors, each designed to integrate seamlessly with different data sources. These include AWS S3, Google Cloud Storage, Azure Blob Storage, and more. This guide will focus on the S3 Connector as an example.",
        "type": "NarrativeText"
       },
       {
        "element_id": "92f45ecc0d7d1cce737977a2a381c94f",
        "metadata": {
         "category_depth": 0,
         "emphasized_text_contents": [
          "3. Run Unstructured API with the S3 Connector"
         ],
         "emphasized_text_tags": [
          "strong"
         ],
         "file_directory": "example_files",
         "filename": "medium_blog.html",
         "filetype": "text/html",
         "languages": [
          "eng"
         ],
         "last_modified": "2024-07-09T12:56:49",
         "page_number": 1
        },
        "text": "3. Run Unstructured API with the S3 Connector",
        "type": "Title"
       },
       {
        "element_id": "7f48d6ea70ab0339f9c271b68b84f4bf",
        "metadata": {
         "file_directory": "example_files",
         "filename": "medium_blog.html",
         "filetype": "text/html",
         "languages": [
          "eng"
         ],
         "last_modified": "2024-07-09T12:56:49",
         "link_texts": [
          "GitHub repository"
         ],
         "link_urls": [
          "https://github.com/Unstructured-IO/unstructured"
         ],
         "page_number": 1,
         "parent_id": "92f45ecc0d7d1cce737977a2a381c94f"
        },
        "text": "With your API key and S3 bucket ready, it’s time to run the Unstructured API. To run the `unstructured-ingest` command, you need to install the unstructured open-source library that can be easily obtained from this GitHub repository.",
        "type": "NarrativeText"
       },
       {
        "element_id": "864114373fd64d7d1a2992c85296ca21",
        "metadata": {
         "file_directory": "example_files",
         "filename": "medium_blog.html",
         "filetype": "text/html",
         "languages": [
          "eng"
         ],
         "last_modified": "2024-07-09T12:56:49",
         "link_texts": [
          "installation notes"
         ],
         "link_urls": [
          "https://github.com/Unstructured-IO/unstructured/blob/main/Ingest.md"
         ],
         "page_number": 1,
         "parent_id": "92f45ecc0d7d1cce737977a2a381c94f"
        },
        "text": "Simply follow the instructions in the repository to install the library and start using the API command easily. As stated on the installation notes, please make sure to install the following extras when installing unstructured, needed for the following command:",
        "type": "NarrativeText"
       },
       {
        "element_id": "79772182a778caa3f714d5660915cf81",
        "metadata": {
         "category_depth": 0,
         "emphasized_text_contents": [
          "pip install \"unstructured[s3,pdf]\""
         ],
         "emphasized_text_tags": [
          "span"
         ],
         "file_directory": "example_files",
         "filename": "medium_blog.html",
         "filetype": "text/html",
         "languages": [
          "eng"
         ],
         "last_modified": "2024-07-09T12:56:49",
         "page_number": 1
        },
        "text": "pip install \"unstructured[s3,pdf]\"",
        "type": "Title"
       },
       {
        "element_id": "805c8700d4e1d2dd5cba3eb4c8dcfcc2",
        "metadata": {
         "file_directory": "example_files",
         "filename": "medium_blog.html",
         "filetype": "text/html",
         "languages": [
          "eng"
         ],
         "last_modified": "2024-07-09T12:56:49",
         "page_number": 1,
         "parent_id": "79772182a778caa3f714d5660915cf81"
        },
        "text": "This command will process the documents in your S3 bucket:",
        "type": "NarrativeText"
       },
       {
        "element_id": "4dfa2308cbe4870a2c47948142c50719",
        "metadata": {
         "category_depth": 0,
         "emphasized_text_contents": [
          "unstructured-ingest s3 \\"
         ],
         "emphasized_text_tags": [
          "span"
         ],
         "file_directory": "example_files",
         "filename": "medium_blog.html",
         "filetype": "text/html",
         "languages": [
          "eng"
         ],
         "last_modified": "2024-07-09T12:56:49",
         "page_number": 1
        },
        "text": "unstructured-ingest s3 \\",
        "type": "Title"
       },
       {
        "element_id": "0ba238ba3144281e6ee857366e052db9",
        "metadata": {
         "category_depth": 0,
         "file_directory": "example_files",
         "filename": "medium_blog.html",
         "filetype": "text/html",
         "languages": [
          "eng"
         ],
         "last_modified": "2024-07-09T12:56:49",
         "page_number": 1
        },
        "text": "--remote-url s3://utic-dev-tech-fixtures/small-pdf-set/ \\",
        "type": "Title"
       },
       {
        "element_id": "1c45baa959bd9910aad16004f0124fb8",
        "metadata": {
         "category_depth": 0,
         "file_directory": "example_files",
         "filename": "medium_blog.html",
         "filetype": "text/html",
         "languages": [
          "eng"
         ],
         "last_modified": "2024-07-09T12:56:49",
         "page_number": 1
        },
        "text": "--anonymous \\",
        "type": "Title"
       },
       {
        "element_id": "a3731aad5600b354f3e2ea968cca304c",
        "metadata": {
         "category_depth": 0,
         "file_directory": "example_files",
         "filename": "medium_blog.html",
         "filetype": "text/html",
         "languages": [
          "eng"
         ],
         "last_modified": "2024-07-09T12:56:49",
         "page_number": 1
        },
        "text": "--structured-output-dir s3-small-batch-output \\",
        "type": "Title"
       },
       {
        "element_id": "ae228fbcea8b42074677b158c54bdcf3",
        "metadata": {
         "category_depth": 0,
         "file_directory": "example_files",
         "filename": "medium_blog.html",
         "filetype": "text/html",
         "languages": [
          "eng"
         ],
         "last_modified": "2024-07-09T12:56:49",
         "page_number": 1
        },
        "text": "--num-processes 8 \\",
        "type": "Title"
       },
       {
        "element_id": "4377321a0c4d5f2d62397c35e1bca9a4",
        "metadata": {
         "category_depth": 0,
         "file_directory": "example_files",
         "filename": "medium_blog.html",
         "filetype": "text/html",
         "languages": [
          "eng"
         ],
         "last_modified": "2024-07-09T12:56:49",
         "page_number": 1
        },
        "text": "--api-key <<YOUR-API-KEY> \\",
        "type": "Title"
       },
       {
        "element_id": "4b628070bf19bc5c56449a5a447999ec",
        "metadata": {
         "category_depth": 0,
         "file_directory": "example_files",
         "filename": "medium_blog.html",
         "filetype": "text/html",
         "languages": [
          "eng"
         ],
         "last_modified": "2024-07-09T12:56:49",
         "page_number": 1
        },
        "text": "--partition-by-api",
        "type": "Title"
       },
       {
        "element_id": "32fb1e9197ba45dfb46c93353b83bdfc",
        "metadata": {
         "category_depth": 0,
         "emphasized_text_contents": [
          "Explanations:"
         ],
         "emphasized_text_tags": [
          "strong"
         ],
         "file_directory": "example_files",
         "filename": "medium_blog.html",
         "filetype": "text/html",
         "languages": [
          "eng"
         ],
         "last_modified": "2024-07-09T12:56:49",
         "page_number": 1
        },
        "text": "Explanations:",
        "type": "Title"
       },
       {
        "element_id": "7355e3da1d484c96aba3f04a2111bf5e",
        "metadata": {
         "category_depth": 1,
         "file_directory": "example_files",
         "filename": "medium_blog.html",
         "filetype": "text/html",
         "languages": [
          "eng"
         ],
         "last_modified": "2024-07-09T12:56:49",
         "page_number": 1,
         "parent_id": "32fb1e9197ba45dfb46c93353b83bdfc"
        },
        "text": "Include --api-key from the earlier step in your API call.",
        "type": "ListItem"
       },
       {
        "element_id": "c76a0e1690b0d0ceb0249ca0e9bfe2ac",
        "metadata": {
         "category_depth": 1,
         "file_directory": "example_files",
         "filename": "medium_blog.html",
         "filetype": "text/html",
         "languages": [
          "eng"
         ],
         "last_modified": "2024-07-09T12:56:49",
         "page_number": 1,
         "parent_id": "32fb1e9197ba45dfb46c93353b83bdfc"
        },
        "text": "Use the --partition-by-api flag to indicate running the partition through API rather than the library.",
        "type": "ListItem"
       },
       {
        "element_id": "4aee62dfec352fadb904645e1a670c97",
        "metadata": {
         "category_depth": 1,
         "file_directory": "example_files",
         "filename": "medium_blog.html",
         "filetype": "text/html",
         "languages": [
          "eng"
         ],
         "last_modified": "2024-07-09T12:56:49",
         "page_number": 1,
         "parent_id": "32fb1e9197ba45dfb46c93353b83bdfc"
        },
        "text": "Specify --num-processesto distribute the workload across multiple processes.",
        "type": "ListItem"
       },
       {
        "element_id": "80e75bc5834333b5727341f8f87d53a5",
        "metadata": {
         "category_depth": 1,
         "file_directory": "example_files",
         "filename": "medium_blog.html",
         "filetype": "text/html",
         "languages": [
          "eng"
         ],
         "last_modified": "2024-07-09T12:56:49",
         "page_number": 1,
         "parent_id": "32fb1e9197ba45dfb46c93353b83bdfc"
        },
        "text": "Use --anonymousto make an API request to S3 without local AWS credentials.",
        "type": "ListItem"
       },
       {
        "element_id": "130a4c38f3569935d2282fc1e38df76a",
        "metadata": {
         "category_depth": 1,
         "file_directory": "example_files",
         "filename": "medium_blog.html",
         "filetype": "text/html",
         "languages": [
          "eng"
         ],
         "last_modified": "2024-07-09T12:56:49",
         "page_number": 1,
         "parent_id": "32fb1e9197ba45dfb46c93353b83bdfc"
        },
        "text": "Set the output directory using --structured-output-dirparameter.",
        "type": "ListItem"
       },
       {
        "element_id": "5d7aa9d6c09605721388940a8be4e8a7",
        "metadata": {
         "category_depth": 0,
         "emphasized_text_contents": [
          "4. Review the final output"
         ],
         "emphasized_text_tags": [
          "strong"
         ],
         "file_directory": "example_files",
         "filename": "medium_blog.html",
         "filetype": "text/html",
         "languages": [
          "eng"
         ],
         "last_modified": "2024-07-09T12:56:49",
         "page_number": 1
        },
        "text": "4. Review the final output",
        "type": "Title"
       },
       {
        "element_id": "cbf37d617faf88459b58d776c24bb97a",
        "metadata": {
         "file_directory": "example_files",
         "filename": "medium_blog.html",
         "filetype": "text/html",
         "languages": [
          "eng"
         ],
         "last_modified": "2024-07-09T12:56:49",
         "page_number": 1,
         "parent_id": "5d7aa9d6c09605721388940a8be4e8a7"
        },
        "text": "Once the command completes, you’ll find the structured outputs in your local file system. These files contain the extracted information from your unstructured data, ready for analysis or further processing.",
        "type": "NarrativeText"
       },
       {
        "element_id": "a27e91f2e7efa5356d22c26d389bf50c",
        "metadata": {
         "file_directory": "example_files",
         "filename": "medium_blog.html",
         "filetype": "text/html",
         "languages": [
          "eng"
         ],
         "last_modified": "2024-07-09T12:56:49",
         "link_texts": [
          "AWS S3 CLI"
         ],
         "link_urls": [
          "https://docs.aws.amazon.com/cli/latest/userguide/cli-services-s3-commands.html"
         ],
         "page_number": 1,
         "parent_id": "5d7aa9d6c09605721388940a8be4e8a7"
        },
        "text": "Looking ahead, Unstructured is developing a downstream connector to write back to AWS S3. This feature will allow you to store the output directly onto S3, streamlining your data pipeline. If you need to store the outputs in an S3 bucket, you can now use the AWS S3 CLI to store the output in your S3 bucket.",
        "type": "NarrativeText"
       },
       {
        "element_id": "9ab02fc86a4904eaf9d82882d563e39e",
        "metadata": {
         "category_depth": 0,
         "file_directory": "example_files",
         "filename": "medium_blog.html",
         "filetype": "text/html",
         "languages": [
          "eng"
         ],
         "last_modified": "2024-07-09T12:56:49",
         "page_number": 1
        },
        "text": "Join the Unstructured Community Group",
        "type": "Title"
       },
       {
        "element_id": "8679e9dfa588aa45188ff3e0b88b414e",
        "metadata": {
         "file_directory": "example_files",
         "filename": "medium_blog.html",
         "filetype": "text/html",
         "languages": [
          "eng"
         ],
         "last_modified": "2024-07-09T12:56:49",
         "link_texts": [
          "community group"
         ],
         "link_urls": [
          "https://join.slack.com/t/unstructuredw-kbe4326/shared_invite/zt-1nlh1ot5d-dfY7zCRlhFboZrIWLA4Qgw"
         ],
         "page_number": 1,
         "parent_id": "9ab02fc86a4904eaf9d82882d563e39e"
        },
        "text": "Ready to get started? Request your API key today and unlock the power of Unstructured API and Connectors. And join the Unstructured community group to connect with other users, ask questions, share your experiences, and get the latest updates. We can’t wait to see what you’ll build.",
        "type": "NarrativeText"
       },
       {
        "element_id": "2c74cdcbe4a9ea7cbbefda3eceb1934e",
        "metadata": {
         "emphasized_text_contents": [
          "Originally published at",
          "https://medium.com",
          "on July 21, 2023."
         ],
         "emphasized_text_tags": [
          "em",
          "em",
          "em"
         ],
         "file_directory": "example_files",
         "filename": "medium_blog.html",
         "filetype": "text/html",
         "languages": [
          "eng"
         ],
         "last_modified": "2024-07-09T12:56:49",
         "link_texts": [
          null
         ],
         "link_urls": [
          "/@ronnyh/effortless-document-extraction-a-guide-to-using-unstructured-api-and-data-connectors-52cf4a9bcc3f"
         ],
         "page_number": 1,
         "parent_id": "9ab02fc86a4904eaf9d82882d563e39e"
        },
        "text": "Originally published at https://medium.com on July 21, 2023.",
        "type": "NarrativeText"
       },
       {
        "element_id": "b3782288b3dd220c397069a826fb0b4b",
        "metadata": {
         "category_depth": 0,
         "file_directory": "example_files",
         "filename": "medium_blog.html",
         "filetype": "text/html",
         "languages": [
          "eng"
         ],
         "last_modified": "2024-07-09T12:56:49",
         "link_texts": [
          null
         ],
         "link_urls": [
          "/tag/nlp?source=post_page-----6c2659eda4af---------------nlp-----------------"
         ],
         "page_number": 1
        },
        "text": "NLP",
        "type": "Title"
       },
       {
        "element_id": "80f921dc9023261e3c814707c896863d",
        "metadata": {
         "category_depth": 0,
         "file_directory": "example_files",
         "filename": "medium_blog.html",
         "filetype": "text/html",
         "languages": [
          "eng"
         ],
         "last_modified": "2024-07-09T12:56:49",
         "link_texts": [
          null
         ],
         "link_urls": [
          "/tag/artificial-intelligence?source=post_page-----6c2659eda4af---------------artificial_intelligence-----------------"
         ],
         "page_number": 1
        },
        "text": "Artificial Intelligence",
        "type": "Title"
       },
       {
        "element_id": "0340bfb383fca6f23f7323d7eba231cf",
        "metadata": {
         "category_depth": 0,
         "file_directory": "example_files",
         "filename": "medium_blog.html",
         "filetype": "text/html",
         "languages": [
          "eng"
         ],
         "last_modified": "2024-07-09T12:56:49",
         "link_texts": [
          null
         ],
         "link_urls": [
          "/tag/large-language-models?source=post_page-----6c2659eda4af---------------large_language_models-----------------"
         ],
         "page_number": 1
        },
        "text": "Large Language Models",
        "type": "Title"
       },
       {
        "element_id": "116928e2b13edac00372a48fd529dd94",
        "metadata": {
         "category_depth": 0,
         "file_directory": "example_files",
         "filename": "medium_blog.html",
         "filetype": "text/html",
         "languages": [
          "eng"
         ],
         "last_modified": "2024-07-09T12:56:49",
         "link_texts": [
          null
         ],
         "link_urls": [
          "/tag/data-engineering?source=post_page-----6c2659eda4af---------------data_engineering-----------------"
         ],
         "page_number": 1
        },
        "text": "Data Engineering",
        "type": "Title"
       },
       {
        "element_id": "9316cd4d881e21d7494cada328686b37",
        "metadata": {
         "category_depth": 0,
         "file_directory": "example_files",
         "filename": "medium_blog.html",
         "filetype": "text/html",
         "languages": [
          "eng"
         ],
         "last_modified": "2024-07-09T12:56:49",
         "link_texts": [
          null
         ],
         "link_urls": [
          "/tag/machine-learning?source=post_page-----6c2659eda4af---------------machine_learning-----------------"
         ],
         "page_number": 1
        },
        "text": "Machine Learning",
        "type": "Title"
       },
       {
        "element_id": "d8156bae0c4243d3742fc4e9774d8ace",
        "metadata": {
         "emphasized_text_contents": [
          "--",
          "--"
         ],
         "emphasized_text_tags": [
          "span",
          "span"
         ],
         "file_directory": "example_files",
         "filename": "medium_blog.html",
         "filetype": "text/html",
         "languages": [
          "eng"
         ],
         "last_modified": "2024-07-09T12:56:49",
         "page_number": 1,
         "parent_id": "9316cd4d881e21d7494cada328686b37"
        },
        "text": "--",
        "type": "UncategorizedText"
       },
       {
        "element_id": "d8156bae0c4243d3742fc4e9774d8ace",
        "metadata": {
         "emphasized_text_contents": [
          "--",
          "--"
         ],
         "emphasized_text_tags": [
          "span",
          "span"
         ],
         "file_directory": "example_files",
         "filename": "medium_blog.html",
         "filetype": "text/html",
         "languages": [
          "eng"
         ],
         "last_modified": "2024-07-09T12:56:49",
         "page_number": 1,
         "parent_id": "9316cd4d881e21d7494cada328686b37"
        },
        "text": "--",
        "type": "UncategorizedText"
       },
       {
        "element_id": "641d1ef657bdfd9fa2064ab5ae3f0e44",
        "metadata": {
         "category_depth": 0,
         "emphasized_text_contents": [
          "Follow"
         ],
         "emphasized_text_tags": [
          "span"
         ],
         "file_directory": "example_files",
         "filename": "medium_blog.html",
         "filetype": "text/html",
         "languages": [
          "eng"
         ],
         "last_modified": "2024-07-09T12:56:49",
         "page_number": 1
        },
        "text": "Follow",
        "type": "Title"
       },
       {
        "element_id": "7ff230083de61ec3c711f918ff2051bb",
        "metadata": {
         "category_depth": 0,
         "emphasized_text_contents": [
          "Written by Unstructured"
         ],
         "emphasized_text_tags": [
          "span"
         ],
         "file_directory": "example_files",
         "filename": "medium_blog.html",
         "filetype": "text/html",
         "languages": [
          "eng"
         ],
         "last_modified": "2024-07-09T12:56:49",
         "link_texts": [
          null
         ],
         "link_urls": [
          "/@unstructured-io?source=post_page-----6c2659eda4af--------------------------------"
         ],
         "page_number": 1
        },
        "text": "Written by Unstructured",
        "type": "Title"
       },
       {
        "element_id": "3f32efaa872dc96afdeba191dff2ea71",
        "metadata": {
         "category_depth": 0,
         "emphasized_text_contents": [
          "376 Followers"
         ],
         "emphasized_text_tags": [
          "span"
         ],
         "file_directory": "example_files",
         "filename": "medium_blog.html",
         "filetype": "text/html",
         "languages": [
          "eng"
         ],
         "last_modified": "2024-07-09T12:56:49",
         "link_texts": [
          "376 Followers"
         ],
         "link_urls": [
          "/@unstructured-io/followers?source=post_page-----6c2659eda4af--------------------------------"
         ],
         "page_number": 1
        },
        "text": "376 Followers",
        "type": "Title"
       },
       {
        "element_id": "8b5a7532094644a82589be35a708f87d",
        "metadata": {
         "category_depth": 0,
         "emphasized_text_contents": [
          "Editor for"
         ],
         "emphasized_text_tags": [
          "span"
         ],
         "file_directory": "example_files",
         "filename": "medium_blog.html",
         "filetype": "text/html",
         "languages": [
          "eng"
         ],
         "last_modified": "2024-07-09T12:56:49",
         "page_number": 1
        },
        "text": "Editor for",
        "type": "Title"
       },
       {
        "element_id": "e04e06ef1dd5664b00daf22e56d221f9",
        "metadata": {
         "category_depth": 0,
         "file_directory": "example_files",
         "filename": "medium_blog.html",
         "filetype": "text/html",
         "languages": [
          "eng"
         ],
         "last_modified": "2024-07-09T12:56:49",
         "link_texts": [
          null
         ],
         "link_urls": [
          "https://medium.com/unstructured-io?source=post_page-----6c2659eda4af--------------------------------"
         ],
         "page_number": 1
        },
        "text": "Unstructured",
        "type": "Title"
       },
       {
        "element_id": "0196229783cb8d6daa353b447f4f7b99",
        "metadata": {
         "category_depth": 0,
         "emphasized_text_contents": [
          "ETL for LLMs"
         ],
         "emphasized_text_tags": [
          "span"
         ],
         "file_directory": "example_files",
         "filename": "medium_blog.html",
         "filetype": "text/html",
         "languages": [
          "eng"
         ],
         "last_modified": "2024-07-09T12:56:49",
         "page_number": 1
        },
        "text": "ETL for LLMs",
        "type": "Title"
       },
       {
        "element_id": "641d1ef657bdfd9fa2064ab5ae3f0e44",
        "metadata": {
         "category_depth": 0,
         "emphasized_text_contents": [
          "Follow"
         ],
         "emphasized_text_tags": [
          "span"
         ],
         "file_directory": "example_files",
         "filename": "medium_blog.html",
         "filetype": "text/html",
         "languages": [
          "eng"
         ],
         "last_modified": "2024-07-09T12:56:49",
         "page_number": 1
        },
        "text": "Follow",
        "type": "Title"
       },
       {
        "element_id": "b79cac926e0b2e347e72cc91d5174037",
        "metadata": {
         "category_depth": 0,
         "file_directory": "example_files",
         "filename": "medium_blog.html",
         "filetype": "text/html",
         "languages": [
          "eng"
         ],
         "last_modified": "2024-07-09T12:56:49",
         "link_texts": [
          null
         ],
         "link_urls": [
          "https://help.medium.com/hc/en-us?source=post_page-----6c2659eda4af--------------------------------"
         ],
         "page_number": 1
        },
        "text": "Help",
        "type": "Title"
       },
       {
        "element_id": "920e413c7d411b61ef3e8c63b1cb6ad0",
        "metadata": {
         "category_depth": 0,
         "file_directory": "example_files",
         "filename": "medium_blog.html",
         "filetype": "text/html",
         "languages": [
          "eng"
         ],
         "last_modified": "2024-07-09T12:56:49",
         "link_texts": [
          null
         ],
         "link_urls": [
          "https://medium.statuspage.io/?source=post_page-----6c2659eda4af--------------------------------"
         ],
         "page_number": 1
        },
        "text": "Status",
        "type": "Title"
       },
       {
        "element_id": "4efca0d10c5feb8e9b35eb1d994f2905",
        "metadata": {
         "category_depth": 0,
         "file_directory": "example_files",
         "filename": "medium_blog.html",
         "filetype": "text/html",
         "languages": [
          "eng"
         ],
         "last_modified": "2024-07-09T12:56:49",
         "link_texts": [
          null
         ],
         "link_urls": [
          "/about?autoplay=1&source=post_page-----6c2659eda4af--------------------------------"
         ],
         "page_number": 1
        },
        "text": "About",
        "type": "Title"
       },
       {
        "element_id": "7e658675b5ca75b3802ff34b548abe66",
        "metadata": {
         "category_depth": 0,
         "file_directory": "example_files",
         "filename": "medium_blog.html",
         "filetype": "text/html",
         "languages": [
          "eng"
         ],
         "last_modified": "2024-07-09T12:56:49",
         "link_texts": [
          null
         ],
         "link_urls": [
          "/jobs-at-medium/work-at-medium-959d1a85284e?source=post_page-----6c2659eda4af--------------------------------"
         ],
         "page_number": 1
        },
        "text": "Careers",
        "type": "Title"
       },
       {
        "element_id": "8c6bc099534a0251b576f6b88bd2db12",
        "metadata": {
         "category_depth": 0,
         "file_directory": "example_files",
         "filename": "medium_blog.html",
         "filetype": "text/html",
         "languages": [
          "eng"
         ],
         "last_modified": "2024-07-09T12:56:49",
         "link_texts": [
          null
         ],
         "link_urls": [
          "https://blog.medium.com/?source=post_page-----6c2659eda4af--------------------------------"
         ],
         "page_number": 1
        },
        "text": "Blog",
        "type": "Title"
       },
       {
        "element_id": "54a57c3147c49f33de5898b87084ad2b",
        "metadata": {
         "category_depth": 0,
         "file_directory": "example_files",
         "filename": "medium_blog.html",
         "filetype": "text/html",
         "languages": [
          "eng"
         ],
         "last_modified": "2024-07-09T12:56:49",
         "link_texts": [
          null
         ],
         "link_urls": [
          "https://policy.medium.com/medium-privacy-policy-f03bf92035c9?source=post_page-----6c2659eda4af--------------------------------"
         ],
         "page_number": 1
        },
        "text": "Privacy",
        "type": "Title"
       },
       {
        "element_id": "ede5489964834a514b61c7a4a8370be2",
        "metadata": {
         "category_depth": 0,
         "file_directory": "example_files",
         "filename": "medium_blog.html",
         "filetype": "text/html",
         "languages": [
          "eng"
         ],
         "last_modified": "2024-07-09T12:56:49",
         "link_texts": [
          null
         ],
         "link_urls": [
          "https://policy.medium.com/medium-terms-of-service-9db0094a1e0f?source=post_page-----6c2659eda4af--------------------------------"
         ],
         "page_number": 1
        },
        "text": "Terms",
        "type": "Title"
       },
       {
        "element_id": "71e02f22899aa9112e05dfc7a3cd1e83",
        "metadata": {
         "file_directory": "example_files",
         "filename": "medium_blog.html",
         "filetype": "text/html",
         "languages": [
          "eng"
         ],
         "last_modified": "2024-07-09T12:56:49",
         "link_texts": [
          null
         ],
         "link_urls": [
          "https://speechify.com/medium?source=post_page-----6c2659eda4af--------------------------------"
         ],
         "page_number": 1,
         "parent_id": "ede5489964834a514b61c7a4a8370be2"
        },
        "text": "Text to speech",
        "type": "NarrativeText"
       },
       {
        "element_id": "1e1a1c078af2887a56987f6da6ffc8f9",
        "metadata": {
         "category_depth": 0,
         "file_directory": "example_files",
         "filename": "medium_blog.html",
         "filetype": "text/html",
         "languages": [
          "eng"
         ],
         "last_modified": "2024-07-09T12:56:49",
         "link_texts": [
          null
         ],
         "link_urls": [
          "/business?source=post_page-----6c2659eda4af--------------------------------"
         ],
         "page_number": 1
        },
        "text": "Teams",
        "type": "Title"
       }
      ],
      "text/plain": [
       "<IPython.core.display.JSON object>"
      ]
     },
     "execution_count": 8,
     "metadata": {
      "application/json": {
       "expanded": false,
       "root": "root"
      }
     },
     "output_type": "execute_result"
    }
   ],
   "source": [
    "JSON(example_output)"
   ]
  },
  {
   "cell_type": "markdown",
   "id": "5e571077-9c60-499c-9668-c0e350148ce8",
   "metadata": {},
   "source": [
    "## Example Doc: MSFT PowerPoint on OpenAI"
   ]
  },
  {
   "cell_type": "code",
   "execution_count": null,
   "id": "36692869-ceeb-4eee-88bf-bdbebb198c70",
   "metadata": {},
   "outputs": [],
   "source": [
    "Image(filename=\"images/pptx_slide.png\", height=600, width=600) "
   ]
  },
  {
   "cell_type": "code",
   "execution_count": null,
   "id": "60fffa73-2f75-447a-8596-e24cc3288039",
   "metadata": {},
   "outputs": [],
   "source": [
    "filename = \"example_files/msft_openai.pptx\"\n",
    "elements = partition_pptx(filename=filename)"
   ]
  },
  {
   "cell_type": "code",
   "execution_count": null,
   "id": "3589bae1-3f4e-4b9e-b16c-8975e37287c9",
   "metadata": {},
   "outputs": [],
   "source": [
    "element_dict = [el.to_dict() for el in elements]\n",
    "JSON(json.dumps(element_dict[:], indent=2))"
   ]
  },
  {
   "cell_type": "markdown",
   "id": "b5ecce31-081c-4e51-89ae-06cc8d9eaf2d",
   "metadata": {},
   "source": [
    "## Example Document: PDF on Chain-of-Thought"
   ]
  },
  {
   "cell_type": "code",
   "execution_count": null,
   "id": "037167ed-21bf-4af3-84a4-21f4b88a0b1c",
   "metadata": {},
   "outputs": [],
   "source": [
    "Image(filename=\"images/cot_paper.png\", height=600, width=600) "
   ]
  },
  {
   "cell_type": "code",
   "execution_count": null,
   "id": "dcab4d73-f062-47ff-bc43-43b50753be6d",
   "metadata": {},
   "outputs": [],
   "source": [
    "filename = \"example_files/CoT.pdf\"\n",
    "with open(filename, \"rb\") as f:\n",
    "    files=shared.Files(\n",
    "        content=f.read(), \n",
    "        file_name=filename,\n",
    "    )\n",
    "\n",
    "req = shared.PartitionParameters(\n",
    "    files=files,\n",
    "    strategy='hi_res',\n",
    "    pdf_infer_table_structure=True,\n",
    "    languages=[\"eng\"],\n",
    ")\n",
    "try:\n",
    "    resp = s.general.partition(req)\n",
    "    print(json.dumps(resp.elements[:3], indent=2))\n",
    "except SDKError as e:\n",
    "    print(e)"
   ]
  },
  {
   "cell_type": "code",
   "execution_count": null,
   "id": "7c44f3c8-cd94-440b-a9cc-01db643f44d9",
   "metadata": {},
   "outputs": [],
   "source": [
    "JSON(json.dumps(resp.elements, indent=2))"
   ]
  },
  {
   "cell_type": "markdown",
   "id": "f9e21878-24e1-4967-b5da-c3e0cdf8a69a",
   "metadata": {},
   "source": [
    "## Work With Your Own Files"
   ]
  },
  {
   "cell_type": "code",
   "execution_count": null,
   "id": "66704bc0-e59e-438e-9fef-2a0a7cffc376",
   "metadata": {},
   "outputs": [],
   "source": [
    "import panel as pn\n",
    "#import param\n",
    "from Utils import upld_file\n",
    "pn.extension()"
   ]
  },
  {
   "cell_type": "code",
   "execution_count": null,
   "id": "d8b8e99a-4d73-4d24-87a5-55fb8783867c",
   "metadata": {},
   "outputs": [],
   "source": [
    "upld_widget = upld_file()\n",
    "pn.Row(upld_widget.widget_file_upload)"
   ]
  },
  {
   "cell_type": "markdown",
   "id": "2a04e4fa-6b55-4ff0-ad8b-508e81829b60",
   "metadata": {},
   "source": [
    "<p style=\"background-color:#fff6e4; padding:15px; border-width:3px; border-color:#f5ecda; border-style:solid; border-radius:6px\"> 🖥 &nbsp; <b>Note:</b> If the file upload interface isn't functioning properly, the issue may be related to your browser version. In such a case, please ensure your browser is updated to the latest version, or try using a different browser.</p>\n"
   ]
  },
  {
   "cell_type": "code",
   "execution_count": null,
   "id": "daaf85f4-f702-467c-b44b-80dcb98aae2c",
   "metadata": {},
   "outputs": [],
   "source": [
    "!ls ./example_files"
   ]
  },
  {
   "cell_type": "markdown",
   "id": "691324b6-6291-4668-8be1-fb9044bb5b6d",
   "metadata": {},
   "source": [
    "<p style=\"background-color:#fff6ff; padding:15px; border-width:3px; border-color:#efe6ef; border-style:solid; border-radius:6px\"> 💻 &nbsp; <b>Uploading Your Own File - Method 2:</b> To upload your own files, you can also 1) click on the <em>\"View\"</em> option on the top menu of the notebook and then 2) click on <em>\"File Browser\"</em>. Then 3) click on <em>\"Upload\"</em> button to upload your files. For more help, please see the <em>\"Appendix - Tips and Help\"</em> Lesson.</p>"
   ]
  },
  {
   "cell_type": "code",
   "execution_count": null,
   "id": "bac37496-46de-4a6c-a2c2-b4749722da64",
   "metadata": {},
   "outputs": [],
   "source": []
  },
  {
   "cell_type": "code",
   "execution_count": null,
   "id": "ba1415fc-e652-4ecc-94ac-0867d101c919",
   "metadata": {},
   "outputs": [],
   "source": []
  },
  {
   "cell_type": "code",
   "execution_count": null,
   "id": "11073a73-f21d-4e1e-94a7-1f4a57cbc95f",
   "metadata": {},
   "outputs": [],
   "source": []
  },
  {
   "cell_type": "code",
   "execution_count": null,
   "id": "a20d475a-1185-4185-9f57-794e1536e4c9",
   "metadata": {},
   "outputs": [],
   "source": []
  },
  {
   "cell_type": "code",
   "execution_count": null,
   "id": "afd68abd-967a-4ee1-bd12-0309e595cae4",
   "metadata": {},
   "outputs": [],
   "source": []
  },
  {
   "cell_type": "code",
   "execution_count": null,
   "id": "2eee2322-6829-4d3a-9666-6b6440c7d074",
   "metadata": {},
   "outputs": [],
   "source": []
  }
 ],
 "metadata": {
  "kernelspec": {
   "display_name": "Python 3 (ipykernel)",
   "language": "python",
   "name": "python3"
  },
  "language_info": {
   "codemirror_mode": {
    "name": "ipython",
    "version": 3
   },
   "file_extension": ".py",
   "mimetype": "text/x-python",
   "name": "python",
   "nbconvert_exporter": "python",
   "pygments_lexer": "ipython3",
   "version": "3.11.9"
  }
 },
 "nbformat": 4,
 "nbformat_minor": 5
}
